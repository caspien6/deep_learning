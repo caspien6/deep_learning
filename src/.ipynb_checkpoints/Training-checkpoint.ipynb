{
 "cells": [
  {
   "cell_type": "markdown",
   "metadata": {},
   "source": [
    "# 2nd milestone"
   ]
  },
  {
   "cell_type": "code",
   "execution_count": 1,
   "metadata": {},
   "outputs": [
    {
     "name": "stderr",
     "output_type": "stream",
     "text": [
      "O:\\ProgrammingSoftwares\\anaconda3\\envs\\tensor-cpu\\lib\\site-packages\\h5py\\__init__.py:36: FutureWarning: Conversion of the second argument of issubdtype from `float` to `np.floating` is deprecated. In future, it will be treated as `np.float64 == np.dtype(float).type`.\n",
      "  from ._conv import register_converters as _register_converters\n",
      "Using TensorFlow backend.\n"
     ]
    }
   ],
   "source": [
    "from keras import models\n",
    "from keras import layers\n",
    "from keras import optimizers\n",
    "from keras.layers import Dense, Activation, BatchNormalization, Conv2D, BatchNormalization, MaxPooling2D, UpSampling2D, Flatten\n",
    "import numpy as np\n",
    "import scipy as sp\n",
    "from skimage import color\n",
    "import warnings\n",
    "import keras\n",
    "from keras.callbacks import EarlyStopping\n",
    "from keras.callbacks import ModelCheckpoint"
   ]
  },
  {
   "cell_type": "markdown",
   "metadata": {},
   "source": [
    "### Starting info\n",
    "\n",
    "I started from this paper: <b>Colorful image colorization - Richard Zhang, Phillip Isola, Alexei A. Efros</b>\n",
    "https://arxiv.org/pdf/1603.08511.pdf\n",
    "\n",
    "In short they found out, that image colorization problem considered as a multinomial classification problem give better results than the other older solutions for this problem. Because of that, they first turned the RGB pixels into LAB colorspace. In this colorspace, the colorisation problem can be interpreted as input = L, output = a,b.  \n",
    "First they created an RGB distribution ->  RGB(a,b|L = 50)\n",
    "![RGB distribution](img_for_description/rgb_distribution.png)  \n",
    "  \n",
    "After that they discretize the values, with this method they got 313 class which are different pixels. This discretized list is saved to numpy pts_hull_file, it is a 2 dimensional with shape of (313,2) where the axis 1 refers to a,b pairs.\n",
    "I'm using up this array, in my function D which map all of the pixel=(L1,a1,b1) to a one hot encoded vector with shape (313,).   This D decide where this pixel belong from the discretized values, after that encode to one hot vector.\n",
    "\n",
    "\n",
    "https://en.wikipedia.org/wiki/CIELAB_color_space  \n",
    "  \n",
    "### Comments for the below code\n",
    "\n",
    "    - Image folder is where all of you data is, you have to change to your filepath, where is your samples.\n",
    "\n",
    "    - Pts_hull_file is the discrete class array, which are created from RGB-LAB distribution. You don't have to recreate, it is in the repo/samples folder.\n",
    "    \n",
    "    - ImageLoader class will hold the prepared data for the training and evaluation.\n",
    "    - img_loader.separate_small_data(valid_split,test_split) prepares the data to train.\n"
   ]
  },
  {
   "cell_type": "code",
   "execution_count": 6,
   "metadata": {
    "scrolled": false
   },
   "outputs": [
    {
     "name": "stdout",
     "output_type": "stream",
     "text": [
      "Length of image list:  24\n"
     ]
    },
    {
     "name": "stderr",
     "output_type": "stream",
     "text": [
      "O:\\ProgrammingSoftwares\\anaconda3\\envs\\tensor-cpu\\lib\\site-packages\\skimage\\transform\\_warps.py:84: UserWarning: The default mode, 'constant', will be changed to 'reflect' in skimage 0.15.\n",
      "  warn(\"The default mode, 'constant', will be changed to 'reflect' in \"\n"
     ]
    },
    {
     "name": "stdout",
     "output_type": "stream",
     "text": [
      "Gigabyte of dataset:  0.02691650390625\n",
      "Gigabyte of y_dataset:  0.001682281494140625\n",
      "(24, 56, 56, 313)\n"
     ]
    }
   ],
   "source": [
    "# Import own .py files\n",
    "import data_collector\n",
    "import image_loader\n",
    "import nnetwork\n",
    "from importlib import reload  # Python 3.4+ only.\n",
    "image_loader = reload(image_loader)\n",
    "import gc\n",
    "gc.collect()\n",
    "\n",
    "image_folder = 'O:/ProgrammingSoftwares/anaconda_projects/dp_nagyhazi/data/images/skyline/'\n",
    "pts_hull_file = 'O:/ProgrammingSoftwares/anaconda_projects/dp_nagyhazi/samples/pts_in_hull.npy'\n",
    "\n",
    "img_loader = image_loader.ImageLoader(image_folder, pt_in_hull_folder = pts_hull_file)\n",
    "\n",
    "# Separate_small_data(validation_rate, test_rate)\n",
    "img_loader.separate_small_data(0.1,0.1)"
   ]
  },
  {
   "cell_type": "markdown",
   "metadata": {},
   "source": [
    "### Info for the below code.\n",
    "\n",
    "I've created the first model, which built up from a vgg16 keras model and after it batch norm and some convolution layers. These last convolution layers are responsible to convert the collected features into an a,b discretized distribution. Becuase of multinomial classification i thought the categorical crossentropy will be the best for me."
   ]
  },
  {
   "cell_type": "code",
   "execution_count": 3,
   "metadata": {},
   "outputs": [
    {
     "name": "stdout",
     "output_type": "stream",
     "text": [
      "_________________________________________________________________\n",
      "Layer (type)                 Output Shape              Param #   \n",
      "=================================================================\n",
      "vgg16 (Model)                (None, 7, 7, 512)         14714688  \n",
      "_________________________________________________________________\n",
      "up_sampling2d_1 (UpSampling2 (None, 56, 56, 512)       0         \n",
      "_________________________________________________________________\n",
      "conv2d_1 (Conv2D)            (None, 56, 56, 313)       1442617   \n",
      "_________________________________________________________________\n",
      "conv2d_2 (Conv2D)            (None, 56, 56, 313)       98282     \n",
      "=================================================================\n",
      "Total params: 16,255,587\n",
      "Trainable params: 3,900,707\n",
      "Non-trainable params: 12,354,880\n",
      "_________________________________________________________________\n"
     ]
    }
   ],
   "source": [
    "model = nnetwork.create_vgg_model()\n",
    "model.compile('adam', loss = 'categorical_crossentropy',\n",
    "              metrics=['accuracy', keras.metrics.categorical_accuracy])"
   ]
  },
  {
   "cell_type": "code",
   "execution_count": 5,
   "metadata": {
    "collapsed": true
   },
   "outputs": [],
   "source": [
    "patience=1\n",
    "early_stopping=EarlyStopping(patience=patience, verbose=1)\n",
    "checkpointer=ModelCheckpoint(filepath='weights.hdf5', save_best_only=True, verbose=1)"
   ]
  },
  {
   "cell_type": "code",
   "execution_count": 6,
   "metadata": {
    "scrolled": true
   },
   "outputs": [
    {
     "name": "stdout",
     "output_type": "stream",
     "text": [
      "Train on 19 samples, validate on 2 samples\n",
      "Epoch 1/10\n",
      "19/19 [==============================] - 20s 1s/step - loss: 5.7134 - acc: 0.0350 - categorical_accuracy: 0.0350 - val_loss: 2.3359 - val_acc: 0.1939 - val_categorical_accuracy: 0.1939\n",
      "\n",
      "Epoch 00001: val_loss improved from inf to 2.33587, saving model to weights.hdf5\n",
      "Epoch 2/10\n",
      "19/19 [==============================] - 19s 992ms/step - loss: 3.3056 - acc: 0.2990 - categorical_accuracy: 0.2990 - val_loss: 2.3853 - val_acc: 0.1293 - val_categorical_accuracy: 0.1293\n",
      "\n",
      "Epoch 00002: val_loss did not improve from 2.33587\n",
      "Epoch 00002: early stopping\n"
     ]
    }
   ],
   "source": [
    "history = model.fit(x=img_loader.X_train,\n",
    "                    y=img_loader.Y_train,\n",
    "                    batch_size=16,\n",
    "                    epochs=10,\n",
    "                    validation_data=(img_loader.X_valid,img_loader.Y_valid),\n",
    "                   callbacks=[checkpointer, early_stopping])"
   ]
  },
  {
   "cell_type": "code",
   "execution_count": 7,
   "metadata": {},
   "outputs": [
    {
     "name": "stdout",
     "output_type": "stream",
     "text": [
      "3/3 [==============================] - 2s 589ms/step\n",
      "Test loss: 3.400451898574829\n",
      "Test accuracy: 0.0386904776096344\n"
     ]
    }
   ],
   "source": [
    "score = model.evaluate(img_loader.X_test, img_loader.Y_test, verbose=1)\n",
    "print('Test loss:', score[0])\n",
    "print('Test accuracy:', score[1])"
   ]
  },
  {
   "cell_type": "code",
   "execution_count": 10,
   "metadata": {},
   "outputs": [
    {
     "data": {
      "image/png": "[encoded data removed]",
      "text/plain": [
       "<Figure size 432x288 with 1 Axes>"
      ]
     },
     "metadata": {},
     "output_type": "display_data"
    },
    {
     "data": {
      "image/png": "[encoded data removed]",
      "text/plain": [
       "<Figure size 432x288 with 1 Axes>"
      ]
     },
     "metadata": {},
     "output_type": "display_data"
    }
   ],
   "source": [
    "# summarize history for accuracy\n",
    "plt.plot(history.history['acc'])\n",
    "plt.plot(history.history['val_acc'])\n",
    "plt.title('model accuracy')\n",
    "plt.ylabel('accuracy')\n",
    "plt.xlabel('epoch')\n",
    "plt.legend(['train', 'test'], loc='upper left')\n",
    "plt.show()\n",
    "# summarize history for loss\n",
    "plt.plot(history.history['loss'])\n",
    "plt.plot(history.history['val_loss'])\n",
    "plt.title('model loss')\n",
    "plt.ylabel('loss')\n",
    "plt.xlabel('epoch')\n",
    "plt.legend(['train', 'test'], loc='upper left')\n",
    "plt.show()"
   ]
  },
  {
   "cell_type": "markdown",
   "metadata": {},
   "source": [
    "Changing the <b>idx</b> you can try out what did the network do."
   ]
  },
  {
   "cell_type": "code",
   "execution_count": 9,
   "metadata": {},
   "outputs": [
    {
     "data": {
      "text/plain": [
       "<matplotlib.image.AxesImage at 0x15d02a30cc0>"
      ]
     },
     "execution_count": 9,
     "metadata": {},
     "output_type": "execute_result"
    },
    {
     "data": {
      "image/png": "[encoded data removed]",
      "text/plain": [
       "<Figure size 432x288 with 1 Axes>"
      ]
     },
     "metadata": {},
     "output_type": "display_data"
    }
   ],
   "source": [
    "from matplotlib.pyplot import imshow\n",
    "from skimage import color\n",
    "import matplotlib.pyplot as plt\n",
    "%matplotlib inline\n",
    "\n",
    "idx = 4\n",
    "\n",
    "y_real = model.predict(img_loader.X_train[idx].reshape((1,224,224,3)))\n",
    "y_real = np.apply_along_axis(lambda x: img_loader.pts_in_hull[np.argmax(x)], axis=3, arr = y_real)\n",
    "img_loader.pts_in_hull # létező színosztályok\n",
    "\n",
    "lab_im = np.concatenate([img_loader.y_dataset[np.newaxis,idx,:,:,0, np.newaxis],y_real ], axis=3)\n",
    "rgb_im = color.lab2rgb(lab_im[0])\n",
    "plt.imshow(rgb_im)"
   ]
  },
  {
   "cell_type": "code",
   "execution_count": null,
   "metadata": {
    "collapsed": true
   },
   "outputs": [],
   "source": []
  }
 ],
 "metadata": {
  "kernelspec": {
   "display_name": "Python [conda env:tensor-cpu]",
   "language": "python",
   "name": "conda-env-tensor-cpu-py"
  },
  "language_info": {
   "codemirror_mode": {
    "name": "ipython",
    "version": 3
   },
   "file_extension": ".py",
   "mimetype": "text/x-python",
   "name": "python",
   "nbconvert_exporter": "python",
   "pygments_lexer": "ipython3",
   "version": "3.5.5"
  }
 },
 "nbformat": 4,
 "nbformat_minor": 2
}
