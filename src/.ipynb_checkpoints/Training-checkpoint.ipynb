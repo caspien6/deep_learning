{
 "cells": [
  {
   "cell_type": "markdown",
   "metadata": {},
   "source": [
    "# 2nd milestone"
   ]
  },
  {
   "cell_type": "code",
   "execution_count": 1,
   "metadata": {},
   "outputs": [
    {
     "name": "stderr",
     "output_type": "stream",
     "text": [
      "O:\\ProgrammingSoftwares\\anaconda3\\envs\\tensor-cpu\\lib\\site-packages\\h5py\\__init__.py:36: FutureWarning: Conversion of the second argument of issubdtype from `float` to `np.floating` is deprecated. In future, it will be treated as `np.float64 == np.dtype(float).type`.\n",
      "  from ._conv import register_converters as _register_converters\n",
      "Using TensorFlow backend.\n"
     ]
    }
   ],
   "source": [
    "from keras import models\n",
    "from keras import layers\n",
    "from keras import optimizers\n",
    "from keras.layers import Dense, Activation, BatchNormalization, Conv2D, BatchNormalization, MaxPooling2D, UpSampling2D, Flatten\n",
    "import numpy as np\n",
    "import scipy as sp\n",
    "from skimage import color\n",
    "import warnings\n",
    "import keras\n",
    "from keras.callbacks import EarlyStopping\n",
    "from keras.callbacks import ModelCheckpoint"
   ]
  },
  {
   "cell_type": "markdown",
   "metadata": {},
   "source": [
    "### Starting info\n",
    "\n",
    "I started from this paper: <b>Colorful image colorization - Richard Zhang, Phillip Isola, Alexei A. Efros</b>\n",
    "https://arxiv.org/pdf/1603.08511.pdf\n",
    "\n",
    "In short they found out, that image colorization problem considered as a multinomial classification problem give better results than the other older solutions for this problem. Because of that, they first turned the RGB pixels into LAB colorspace. In this colorspace, the colorisation problem can be interpreted as input = L, output = a,b.  \n",
    "First they created an RGB distribution ->  RGB(a,b|L = 50)\n",
    "![RGB distribution](img_for_description/rgb_distribution.png)  \n",
    "  \n",
    "After that they discretize the values, with this method they got 313 class which are different pixels. This discretized list is saved to numpy pts_hull_file, it is a 2 dimensional with shape of (313,2) where the axis 1 refers to a,b pairs.\n",
    "I'm using up this array, in my function D which map all of the pixel=(L1,a1,b1) to a one hot encoded vector with shape (313,).   This D decide where this pixel belong from the discretized values, after that encode to one hot vector.\n",
    "\n",
    "\n",
    "https://en.wikipedia.org/wiki/CIELAB_color_space  \n",
    "  \n",
    "### Comments for the below code\n",
    "\n",
    "    - Image folder is where all of you data is, you have to change to your filepath, where is your samples.\n",
    "\n",
    "    - Pts_hull_file is the discrete class array, which are created from RGB-LAB distribution. You don't have to recreate, it is in the repo/samples folder.\n",
    "    \n",
    "    - ImageLoader class will hold the prepared data for the training and evaluation.\n",
    "    - img_loader.separate_small_data(valid_split,test_split) prepares the data to train.\n"
   ]
  },
  {
   "cell_type": "code",
   "execution_count": 4,
   "metadata": {
    "scrolled": false
   },
   "outputs": [],
   "source": [
    "# Import own .py files\n",
    "import data_collector\n",
    "import image_loader\n",
    "import nnetwork\n",
    "from utility_methods import save_plots\n",
    "from importlib import reload  # Python 3.4+ only.\n",
    "nnetwork = reload(nnetwork)\n",
    "import gc\n",
    "\n",
    "\n",
    "def teszt():\n",
    "    gc.collect()\n",
    "    image_folder = 'O:/ProgrammingSoftwares/anaconda_projects/dp_nagyhazi/samples/images/'\n",
    "    pts_hull_file = 'O:/ProgrammingSoftwares/anaconda_projects/dp_nagyhazi/samples/pts_in_hull.npy'\n",
    "\n",
    "    img_loader = image_loader.ImageLoader(image_folder, pt_in_hull_folder = pts_hull_file)\n",
    "\n",
    "    # Separate_small_data(validation_rate, test_rate)\n",
    "    img_loader.separate_small_data(0.1,0.1)\n",
    "    return img_loader"
   ]
  },
  {
   "cell_type": "code",
   "execution_count": 5,
   "metadata": {
    "scrolled": true
   },
   "outputs": [
    {
     "name": "stdout",
     "output_type": "stream",
     "text": [
      "Length of image list:  24\n"
     ]
    },
    {
     "name": "stderr",
     "output_type": "stream",
     "text": [
      "O:\\ProgrammingSoftwares\\anaconda3\\envs\\tensor-cpu\\lib\\site-packages\\skimage\\transform\\_warps.py:84: UserWarning: The default mode, 'constant', will be changed to 'reflect' in skimage 0.15.\n",
      "  warn(\"The default mode, 'constant', will be changed to 'reflect' in \"\n"
     ]
    },
    {
     "name": "stdout",
     "output_type": "stream",
     "text": [
      "Gigabyte of dataset:  0.02691650390625\n",
      "Gigabyte of y_dataset:  0.001682281494140625\n"
     ]
    }
   ],
   "source": [
    "#%load_ext memory_profiler\n",
    "img_loader = teszt()"
   ]
  },
  {
   "cell_type": "markdown",
   "metadata": {},
   "source": [
    "### Info for the below code.\n",
    "\n",
    "I've created the first model, which built up from a vgg16 keras model and after it batch norm and some convolution layers. These last convolution layers are responsible to convert the collected features into an a,b discretized distribution. Becuase of multinomial classification i thought the categorical crossentropy will be the best for me."
   ]
  },
  {
   "cell_type": "code",
   "execution_count": 7,
   "metadata": {},
   "outputs": [
    {
     "name": "stdout",
     "output_type": "stream",
     "text": [
      "_________________________________________________________________\n",
      "Layer (type)                 Output Shape              Param #   \n",
      "=================================================================\n",
      "vgg16 (Model)                (None, 7, 7, 512)         14714688  \n",
      "_________________________________________________________________\n",
      "up_sampling2d_1 (UpSampling2 (None, 56, 56, 512)       0         \n",
      "_________________________________________________________________\n",
      "conv2d_1 (Conv2D)            (None, 56, 56, 313)       1442617   \n",
      "_________________________________________________________________\n",
      "conv2d_2 (Conv2D)            (None, 56, 56, 313)       98282     \n",
      "=================================================================\n",
      "Total params: 16,255,587\n",
      "Trainable params: 1,540,899\n",
      "Non-trainable params: 14,714,688\n",
      "_________________________________________________________________\n"
     ]
    }
   ],
   "source": [
    "model = nnetwork.create_vgg_model(1)\n",
    "model.compile('adam', loss = 'categorical_crossentropy',\n",
    "              metrics=['accuracy', keras.metrics.categorical_accuracy])"
   ]
  },
  {
   "cell_type": "code",
   "execution_count": 9,
   "metadata": {
    "collapsed": true
   },
   "outputs": [],
   "source": [
    "patience=50\n",
    "early_stopping=EarlyStopping(monitor='val_acc',patience=patience, verbose=1)\n",
    "checkpointer=ModelCheckpoint(filepath='weights.hdf5', monitor='val_acc', save_best_only=True, verbose=1)"
   ]
  },
  {
   "cell_type": "code",
   "execution_count": 10,
   "metadata": {
    "scrolled": true
   },
   "outputs": [
    {
     "name": "stdout",
     "output_type": "stream",
     "text": [
      "Train on 19 samples, validate on 2 samples\n",
      "Epoch 1/30\n",
      "19/19 [==============================] - 18s 943ms/step - loss: 5.8294 - acc: 0.0218 - categorical_accuracy: 0.0218 - val_loss: 2.9713 - val_acc: 0.4960 - val_categorical_accuracy: 0.4960\n",
      "\n",
      "Epoch 00001: val_acc improved from -inf to 0.49601, saving model to weights.hdf5\n",
      "Epoch 2/30\n",
      "19/19 [==============================] - 17s 891ms/step - loss: 3.7136 - acc: 0.3767 - categorical_accuracy: 0.3767 - val_loss: 2.2060 - val_acc: 0.4960 - val_categorical_accuracy: 0.4960\n",
      "\n",
      "Epoch 00002: val_acc did not improve from 0.49601\n",
      "Epoch 3/30\n",
      "19/19 [==============================] - 16s 867ms/step - loss: 2.9820 - acc: 0.3784 - categorical_accuracy: 0.3784 - val_loss: 2.3980 - val_acc: 0.1298 - val_categorical_accuracy: 0.1298\n",
      "\n",
      "Epoch 00003: val_acc did not improve from 0.49601\n",
      "Epoch 4/30\n",
      "19/19 [==============================] - 16s 857ms/step - loss: 2.9390 - acc: 0.2890 - categorical_accuracy: 0.2890 - val_loss: 2.2196 - val_acc: 0.1317 - val_categorical_accuracy: 0.1317\n",
      "\n",
      "Epoch 00004: val_acc did not improve from 0.49601\n",
      "Epoch 5/30\n",
      "19/19 [==============================] - 17s 887ms/step - loss: 2.6892 - acc: 0.3481 - categorical_accuracy: 0.3481 - val_loss: 1.9594 - val_acc: 0.4267 - val_categorical_accuracy: 0.4267\n",
      "\n",
      "Epoch 00005: val_acc did not improve from 0.49601\n",
      "Epoch 6/30\n",
      "19/19 [==============================] - 16s 855ms/step - loss: 2.4598 - acc: 0.3949 - categorical_accuracy: 0.3949 - val_loss: 1.8939 - val_acc: 0.4853 - val_categorical_accuracy: 0.4853\n",
      "\n",
      "Epoch 00006: val_acc did not improve from 0.49601\n",
      "Epoch 7/30\n",
      "19/19 [==============================] - 16s 833ms/step - loss: 2.4079 - acc: 0.3890 - categorical_accuracy: 0.3890 - val_loss: 1.8818 - val_acc: 0.4298 - val_categorical_accuracy: 0.4298\n",
      "\n",
      "Epoch 00007: val_acc did not improve from 0.49601\n",
      "Epoch 8/30\n",
      "19/19 [==============================] - 16s 836ms/step - loss: 2.2840 - acc: 0.3981 - categorical_accuracy: 0.3981 - val_loss: 2.0421 - val_acc: 0.2526 - val_categorical_accuracy: 0.2526\n",
      "\n",
      "Epoch 00008: val_acc did not improve from 0.49601\n",
      "Epoch 9/30\n",
      "19/19 [==============================] - 16s 861ms/step - loss: 2.2814 - acc: 0.3995 - categorical_accuracy: 0.3995 - val_loss: 2.0865 - val_acc: 0.2875 - val_categorical_accuracy: 0.2875\n",
      "\n",
      "Epoch 00009: val_acc did not improve from 0.49601\n",
      "Epoch 10/30\n",
      "19/19 [==============================] - 16s 859ms/step - loss: 2.2178 - acc: 0.4116 - categorical_accuracy: 0.4116 - val_loss: 2.0303 - val_acc: 0.3737 - val_categorical_accuracy: 0.3737\n",
      "\n",
      "Epoch 00010: val_acc did not improve from 0.49601\n",
      "Epoch 11/30\n",
      "19/19 [==============================] - 17s 884ms/step - loss: 2.1410 - acc: 0.4079 - categorical_accuracy: 0.4079 - val_loss: 1.9255 - val_acc: 0.4260 - val_categorical_accuracy: 0.4260\n",
      "\n",
      "Epoch 00011: val_acc did not improve from 0.49601\n",
      "Epoch 12/30\n",
      "19/19 [==============================] - 16s 837ms/step - loss: 2.1312 - acc: 0.4042 - categorical_accuracy: 0.4042 - val_loss: 1.8529 - val_acc: 0.4499 - val_categorical_accuracy: 0.4499\n",
      "\n",
      "Epoch 00012: val_acc did not improve from 0.49601\n",
      "Epoch 13/30\n",
      "19/19 [==============================] - 17s 870ms/step - loss: 2.1352 - acc: 0.4045 - categorical_accuracy: 0.4045 - val_loss: 1.8052 - val_acc: 0.4326 - val_categorical_accuracy: 0.4326\n",
      "\n",
      "Epoch 00013: val_acc did not improve from 0.49601\n",
      "Epoch 14/30\n",
      "19/19 [==============================] - 16s 856ms/step - loss: 2.1030 - acc: 0.4113 - categorical_accuracy: 0.4113 - val_loss: 1.8624 - val_acc: 0.3433 - val_categorical_accuracy: 0.3433\n",
      "\n",
      "Epoch 00014: val_acc did not improve from 0.49601\n",
      "Epoch 15/30\n",
      "19/19 [==============================] - 16s 838ms/step - loss: 2.0769 - acc: 0.4255 - categorical_accuracy: 0.4255 - val_loss: 1.9075 - val_acc: 0.4074 - val_categorical_accuracy: 0.4074\n",
      "\n",
      "Epoch 00015: val_acc did not improve from 0.49601\n",
      "Epoch 16/30\n",
      "19/19 [==============================] - 16s 841ms/step - loss: 1.9937 - acc: 0.4342 - categorical_accuracy: 0.4342 - val_loss: 1.9892 - val_acc: 0.4239 - val_categorical_accuracy: 0.4239\n",
      "\n",
      "Epoch 00016: val_acc did not improve from 0.49601\n",
      "Epoch 17/30\n",
      "19/19 [==============================] - 16s 865ms/step - loss: 1.9905 - acc: 0.4253 - categorical_accuracy: 0.4253 - val_loss: 2.0148 - val_acc: 0.4142 - val_categorical_accuracy: 0.4142\n",
      "\n",
      "Epoch 00017: val_acc did not improve from 0.49601\n",
      "Epoch 18/30\n",
      "19/19 [==============================] - 17s 873ms/step - loss: 1.9494 - acc: 0.4324 - categorical_accuracy: 0.4324 - val_loss: 1.9493 - val_acc: 0.3919 - val_categorical_accuracy: 0.3919\n",
      "\n",
      "Epoch 00018: val_acc did not improve from 0.49601\n",
      "Epoch 19/30\n",
      "19/19 [==============================] - 16s 842ms/step - loss: 1.9134 - acc: 0.4365 - categorical_accuracy: 0.4365 - val_loss: 1.9168 - val_acc: 0.2902 - val_categorical_accuracy: 0.2902\n",
      "\n",
      "Epoch 00019: val_acc did not improve from 0.49601\n",
      "Epoch 20/30\n",
      "19/19 [==============================] - 16s 867ms/step - loss: 1.9300 - acc: 0.4343 - categorical_accuracy: 0.4343 - val_loss: 1.8967 - val_acc: 0.3693 - val_categorical_accuracy: 0.3693\n",
      "\n",
      "Epoch 00020: val_acc did not improve from 0.49601\n",
      "Epoch 21/30\n",
      "19/19 [==============================] - 17s 904ms/step - loss: 1.9253 - acc: 0.4343 - categorical_accuracy: 0.4343 - val_loss: 1.9443 - val_acc: 0.4039 - val_categorical_accuracy: 0.4039\n",
      "\n",
      "Epoch 00021: val_acc did not improve from 0.49601\n",
      "Epoch 22/30\n",
      "19/19 [==============================] - 16s 861ms/step - loss: 1.8997 - acc: 0.4326 - categorical_accuracy: 0.4326 - val_loss: 2.0240 - val_acc: 0.3697 - val_categorical_accuracy: 0.3697\n",
      "\n",
      "Epoch 00022: val_acc did not improve from 0.49601\n",
      "Epoch 23/30\n",
      "19/19 [==============================] - 16s 840ms/step - loss: 1.8489 - acc: 0.4498 - categorical_accuracy: 0.4498 - val_loss: 2.0543 - val_acc: 0.2758 - val_categorical_accuracy: 0.2758\n",
      "\n",
      "Epoch 00023: val_acc did not improve from 0.49601\n",
      "Epoch 24/30\n",
      "19/19 [==============================] - 17s 878ms/step - loss: 1.8478 - acc: 0.4658 - categorical_accuracy: 0.4658 - val_loss: 2.0045 - val_acc: 0.2856 - val_categorical_accuracy: 0.2856\n",
      "\n",
      "Epoch 00024: val_acc did not improve from 0.49601\n",
      "Epoch 25/30\n",
      "19/19 [==============================] - 18s 930ms/step - loss: 1.8328 - acc: 0.4714 - categorical_accuracy: 0.4714 - val_loss: 1.8899 - val_acc: 0.3665 - val_categorical_accuracy: 0.3665\n",
      "\n",
      "Epoch 00025: val_acc did not improve from 0.49601\n",
      "Epoch 26/30\n",
      "19/19 [==============================] - 19s 974ms/step - loss: 1.7903 - acc: 0.4625 - categorical_accuracy: 0.4625 - val_loss: 1.8971 - val_acc: 0.4150 - val_categorical_accuracy: 0.4150\n",
      "\n",
      "Epoch 00026: val_acc did not improve from 0.49601\n",
      "Epoch 27/30\n",
      "19/19 [==============================] - 17s 881ms/step - loss: 1.7848 - acc: 0.4516 - categorical_accuracy: 0.4516 - val_loss: 1.9600 - val_acc: 0.3983 - val_categorical_accuracy: 0.3983\n",
      "\n",
      "Epoch 00027: val_acc did not improve from 0.49601\n",
      "Epoch 28/30\n",
      "19/19 [==============================] - 17s 892ms/step - loss: 1.7774 - acc: 0.4577 - categorical_accuracy: 0.4577 - val_loss: 1.9770 - val_acc: 0.3709 - val_categorical_accuracy: 0.3709\n",
      "\n",
      "Epoch 00028: val_acc did not improve from 0.49601\n",
      "Epoch 29/30\n",
      "19/19 [==============================] - 17s 909ms/step - loss: 1.7477 - acc: 0.4681 - categorical_accuracy: 0.4681 - val_loss: 1.9489 - val_acc: 0.3546 - val_categorical_accuracy: 0.3546\n",
      "\n",
      "Epoch 00029: val_acc did not improve from 0.49601\n",
      "Epoch 30/30\n",
      "19/19 [==============================] - 17s 891ms/step - loss: 1.7107 - acc: 0.4765 - categorical_accuracy: 0.4765 - val_loss: 1.9688 - val_acc: 0.2902 - val_categorical_accuracy: 0.2902\n",
      "\n",
      "Epoch 00030: val_acc did not improve from 0.49601\n"
     ]
    }
   ],
   "source": [
    "history = model.fit(x=img_loader.X_train,\n",
    "                    y=img_loader.Y_train,\n",
    "                    batch_size=16,\n",
    "                    epochs=30,\n",
    "                    validation_data=(img_loader.X_valid,img_loader.Y_valid),\n",
    "                   callbacks=[checkpointer, early_stopping])"
   ]
  },
  {
   "cell_type": "code",
   "execution_count": 11,
   "metadata": {},
   "outputs": [
    {
     "name": "stdout",
     "output_type": "stream",
     "text": [
      "3/3 [==============================] - 2s 564ms/step\n",
      "Test loss: 2.9197821617126465\n",
      "Test accuracy: 0.2089710831642151\n"
     ]
    }
   ],
   "source": [
    "score = model.evaluate(img_loader.X_test, img_loader.Y_test, verbose=1)\n",
    "print('Test loss:', score[0])\n",
    "print('Test accuracy:', score[1])"
   ]
  },
  {
   "cell_type": "code",
   "execution_count": 12,
   "metadata": {
    "scrolled": true
   },
   "outputs": [
    {
     "data": {
      "image/png": "[encoded data removed]",
      "text/plain": [
       "<Figure size 432x288 with 1 Axes>"
      ]
     },
     "metadata": {},
     "output_type": "display_data"
    },
    {
     "data": {
      "image/png": "[encoded data removed]",
      "text/plain": [
       "<Figure size 432x288 with 1 Axes>"
      ]
     },
     "metadata": {},
     "output_type": "display_data"
    }
   ],
   "source": [
    "save_plots(history)"
   ]
  },
  {
   "cell_type": "markdown",
   "metadata": {},
   "source": [
    "Changing the <b>idx</b> you can try out what did the network do."
   ]
  },
  {
   "cell_type": "code",
   "execution_count": 56,
   "metadata": {},
   "outputs": [
    {
     "data": {
      "text/plain": [
       "<matplotlib.image.AxesImage at 0x1a4a2f45978>"
      ]
     },
     "execution_count": 56,
     "metadata": {},
     "output_type": "execute_result"
    },
    {
     "data": {
      "image/png": "[encoded data removed]",
      "text/plain": [
       "<Figure size 432x288 with 1 Axes>"
      ]
     },
     "metadata": {},
     "output_type": "display_data"
    }
   ],
   "source": [
    "from matplotlib.pyplot import imshow\n",
    "from skimage import color\n",
    "import matplotlib.pyplot as plt\n",
    "%matplotlib inline\n",
    "\n",
    "idx = 9\n",
    "\n",
    "y_real = model.predict(img_loader.X_train[idx].reshape((1,224,224,3)))\n",
    "y_real = np.apply_along_axis(lambda x: img_loader.pts_in_hull[np.argmax(x)], axis=3, arr = y_real)\n",
    "img_loader.pts_in_hull # létező színosztályok\n",
    "\n",
    "lab_im = np.concatenate([img_loader.y_dataset[np.newaxis,idx,:,:,0, np.newaxis],y_real ], axis=3)\n",
    "rgb_im = color.lab2rgb(lab_im[0])\n",
    "plt.imshow(rgb_im)"
   ]
  },
  {
   "cell_type": "code",
   "execution_count": 63,
   "metadata": {
    "collapsed": true
   },
   "outputs": [
    {
     "name": "stdout",
     "output_type": "stream",
     "text": [
      "Length of image list:  24\n",
      "Epoch 1/30\n"
     ]
    },
    {
     "name": "stderr",
     "output_type": "stream",
     "text": [
      "O:\\ProgrammingSoftwares\\anaconda3\\envs\\tensor-cpu\\lib\\site-packages\\skimage\\transform\\_warps.py:84: UserWarning: The default mode, 'constant', will be changed to 'reflect' in skimage 0.15.\n",
      "  warn(\"The default mode, 'constant', will be changed to 'reflect' in \"\n"
     ]
    },
    {
     "name": "stdout",
     "output_type": "stream",
     "text": [
      "1/1 [==============================] - 27s 27s/step - loss: 1.7585 - acc: 0.4499 - categorical_accuracy: 0.4499 - val_loss: 1.7504 - val_acc: 0.4526 - val_categorical_accuracy: 0.4526\n",
      "\n",
      "Epoch 00001: val_acc improved from -inf to 0.45261, saving model to weights.hdf5\n",
      "Epoch 2/30\n",
      "1/1 [==============================] - 22s 22s/step - loss: 1.7504 - acc: 0.4526 - categorical_accuracy: 0.4526 - val_loss: 1.7430 - val_acc: 0.4553 - val_categorical_accuracy: 0.4553\n",
      "\n",
      "Epoch 00002: val_acc improved from 0.45261 to 0.45528, saving model to weights.hdf5\n",
      "Epoch 3/30\n",
      "1/1 [==============================] - 24s 24s/step - loss: 1.7430 - acc: 0.4553 - categorical_accuracy: 0.4553 - val_loss: 1.7371 - val_acc: 0.4607 - val_categorical_accuracy: 0.4607\n",
      "\n",
      "Epoch 00003: val_acc improved from 0.45528 to 0.46068, saving model to weights.hdf5\n",
      "Epoch 4/30\n",
      "1/1 [==============================] - 24s 24s/step - loss: 1.7371 - acc: 0.4607 - categorical_accuracy: 0.4607 - val_loss: 1.7329 - val_acc: 0.4619 - val_categorical_accuracy: 0.4619\n",
      "\n",
      "Epoch 00004: val_acc improved from 0.46068 to 0.46191, saving model to weights.hdf5\n",
      "Epoch 5/30\n",
      "1/1 [==============================] - 23s 23s/step - loss: 1.7329 - acc: 0.4619 - categorical_accuracy: 0.4619 - val_loss: 1.7299 - val_acc: 0.4645 - val_categorical_accuracy: 0.4645\n",
      "\n",
      "Epoch 00005: val_acc improved from 0.46191 to 0.46449, saving model to weights.hdf5\n",
      "Epoch 6/30\n"
     ]
    },
    {
     "ename": "KeyboardInterrupt",
     "evalue": "",
     "output_type": "error",
     "traceback": [
      "\u001b[1;31m---------------------------------------------------------------------------\u001b[0m",
      "\u001b[1;31mKeyboardInterrupt\u001b[0m                         Traceback (most recent call last)",
      "\u001b[1;32m<ipython-input-63-15c4394f5971>\u001b[0m in \u001b[0;36m<module>\u001b[1;34m()\u001b[0m\n\u001b[0;32m     15\u001b[0m                     \u001b[0mvalidation_data\u001b[0m\u001b[1;33m=\u001b[0m\u001b[0mtraain\u001b[0m\u001b[1;33m,\u001b[0m\u001b[1;33m\u001b[0m\u001b[0m\n\u001b[0;32m     16\u001b[0m                     \u001b[0mepochs\u001b[0m\u001b[1;33m=\u001b[0m\u001b[1;36m30\u001b[0m\u001b[1;33m,\u001b[0m\u001b[1;33m\u001b[0m\u001b[0m\n\u001b[1;32m---> 17\u001b[1;33m                     callbacks=[csv_logger,checkpointer, early_stopping])\n\u001b[0m",
      "\u001b[1;32mO:\\ProgrammingSoftwares\\anaconda3\\envs\\tensor-cpu\\lib\\site-packages\\keras\\legacy\\interfaces.py\u001b[0m in \u001b[0;36mwrapper\u001b[1;34m(*args, **kwargs)\u001b[0m\n\u001b[0;32m     89\u001b[0m                 warnings.warn('Update your `' + object_name + '` call to the ' +\n\u001b[0;32m     90\u001b[0m                               'Keras 2 API: ' + signature, stacklevel=2)\n\u001b[1;32m---> 91\u001b[1;33m             \u001b[1;32mreturn\u001b[0m \u001b[0mfunc\u001b[0m\u001b[1;33m(\u001b[0m\u001b[1;33m*\u001b[0m\u001b[0margs\u001b[0m\u001b[1;33m,\u001b[0m \u001b[1;33m**\u001b[0m\u001b[0mkwargs\u001b[0m\u001b[1;33m)\u001b[0m\u001b[1;33m\u001b[0m\u001b[0m\n\u001b[0m\u001b[0;32m     92\u001b[0m         \u001b[0mwrapper\u001b[0m\u001b[1;33m.\u001b[0m\u001b[0m_original_function\u001b[0m \u001b[1;33m=\u001b[0m \u001b[0mfunc\u001b[0m\u001b[1;33m\u001b[0m\u001b[0m\n\u001b[0;32m     93\u001b[0m         \u001b[1;32mreturn\u001b[0m \u001b[0mwrapper\u001b[0m\u001b[1;33m\u001b[0m\u001b[0m\n",
      "\u001b[1;32mO:\\ProgrammingSoftwares\\anaconda3\\envs\\tensor-cpu\\lib\\site-packages\\keras\\engine\\training.py\u001b[0m in \u001b[0;36mfit_generator\u001b[1;34m(self, generator, steps_per_epoch, epochs, verbose, callbacks, validation_data, validation_steps, class_weight, max_queue_size, workers, use_multiprocessing, shuffle, initial_epoch)\u001b[0m\n\u001b[0;32m   1416\u001b[0m             \u001b[0muse_multiprocessing\u001b[0m\u001b[1;33m=\u001b[0m\u001b[0muse_multiprocessing\u001b[0m\u001b[1;33m,\u001b[0m\u001b[1;33m\u001b[0m\u001b[0m\n\u001b[0;32m   1417\u001b[0m             \u001b[0mshuffle\u001b[0m\u001b[1;33m=\u001b[0m\u001b[0mshuffle\u001b[0m\u001b[1;33m,\u001b[0m\u001b[1;33m\u001b[0m\u001b[0m\n\u001b[1;32m-> 1418\u001b[1;33m             initial_epoch=initial_epoch)\n\u001b[0m\u001b[0;32m   1419\u001b[0m \u001b[1;33m\u001b[0m\u001b[0m\n\u001b[0;32m   1420\u001b[0m     \u001b[1;33m@\u001b[0m\u001b[0minterfaces\u001b[0m\u001b[1;33m.\u001b[0m\u001b[0mlegacy_generator_methods_support\u001b[0m\u001b[1;33m\u001b[0m\u001b[0m\n",
      "\u001b[1;32mO:\\ProgrammingSoftwares\\anaconda3\\envs\\tensor-cpu\\lib\\site-packages\\keras\\engine\\training_generator.py\u001b[0m in \u001b[0;36mfit_generator\u001b[1;34m(model, generator, steps_per_epoch, epochs, verbose, callbacks, validation_data, validation_steps, class_weight, max_queue_size, workers, use_multiprocessing, shuffle, initial_epoch)\u001b[0m\n\u001b[0;32m    215\u001b[0m                 outs = model.train_on_batch(x, y,\n\u001b[0;32m    216\u001b[0m                                             \u001b[0msample_weight\u001b[0m\u001b[1;33m=\u001b[0m\u001b[0msample_weight\u001b[0m\u001b[1;33m,\u001b[0m\u001b[1;33m\u001b[0m\u001b[0m\n\u001b[1;32m--> 217\u001b[1;33m                                             class_weight=class_weight)\n\u001b[0m\u001b[0;32m    218\u001b[0m \u001b[1;33m\u001b[0m\u001b[0m\n\u001b[0;32m    219\u001b[0m                 \u001b[0mouts\u001b[0m \u001b[1;33m=\u001b[0m \u001b[0mto_list\u001b[0m\u001b[1;33m(\u001b[0m\u001b[0mouts\u001b[0m\u001b[1;33m)\u001b[0m\u001b[1;33m\u001b[0m\u001b[0m\n",
      "\u001b[1;32mO:\\ProgrammingSoftwares\\anaconda3\\envs\\tensor-cpu\\lib\\site-packages\\keras\\engine\\training.py\u001b[0m in \u001b[0;36mtrain_on_batch\u001b[1;34m(self, x, y, sample_weight, class_weight)\u001b[0m\n\u001b[0;32m   1215\u001b[0m             \u001b[0mins\u001b[0m \u001b[1;33m=\u001b[0m \u001b[0mx\u001b[0m \u001b[1;33m+\u001b[0m \u001b[0my\u001b[0m \u001b[1;33m+\u001b[0m \u001b[0msample_weights\u001b[0m\u001b[1;33m\u001b[0m\u001b[0m\n\u001b[0;32m   1216\u001b[0m         \u001b[0mself\u001b[0m\u001b[1;33m.\u001b[0m\u001b[0m_make_train_function\u001b[0m\u001b[1;33m(\u001b[0m\u001b[1;33m)\u001b[0m\u001b[1;33m\u001b[0m\u001b[0m\n\u001b[1;32m-> 1217\u001b[1;33m         \u001b[0moutputs\u001b[0m \u001b[1;33m=\u001b[0m \u001b[0mself\u001b[0m\u001b[1;33m.\u001b[0m\u001b[0mtrain_function\u001b[0m\u001b[1;33m(\u001b[0m\u001b[0mins\u001b[0m\u001b[1;33m)\u001b[0m\u001b[1;33m\u001b[0m\u001b[0m\n\u001b[0m\u001b[0;32m   1218\u001b[0m         \u001b[1;32mreturn\u001b[0m \u001b[0munpack_singleton\u001b[0m\u001b[1;33m(\u001b[0m\u001b[0moutputs\u001b[0m\u001b[1;33m)\u001b[0m\u001b[1;33m\u001b[0m\u001b[0m\n\u001b[0;32m   1219\u001b[0m \u001b[1;33m\u001b[0m\u001b[0m\n",
      "\u001b[1;32mO:\\ProgrammingSoftwares\\anaconda3\\envs\\tensor-cpu\\lib\\site-packages\\keras\\backend\\tensorflow_backend.py\u001b[0m in \u001b[0;36m__call__\u001b[1;34m(self, inputs)\u001b[0m\n\u001b[0;32m   2713\u001b[0m                 \u001b[1;32mreturn\u001b[0m \u001b[0mself\u001b[0m\u001b[1;33m.\u001b[0m\u001b[0m_legacy_call\u001b[0m\u001b[1;33m(\u001b[0m\u001b[0minputs\u001b[0m\u001b[1;33m)\u001b[0m\u001b[1;33m\u001b[0m\u001b[0m\n\u001b[0;32m   2714\u001b[0m \u001b[1;33m\u001b[0m\u001b[0m\n\u001b[1;32m-> 2715\u001b[1;33m             \u001b[1;32mreturn\u001b[0m \u001b[0mself\u001b[0m\u001b[1;33m.\u001b[0m\u001b[0m_call\u001b[0m\u001b[1;33m(\u001b[0m\u001b[0minputs\u001b[0m\u001b[1;33m)\u001b[0m\u001b[1;33m\u001b[0m\u001b[0m\n\u001b[0m\u001b[0;32m   2716\u001b[0m         \u001b[1;32melse\u001b[0m\u001b[1;33m:\u001b[0m\u001b[1;33m\u001b[0m\u001b[0m\n\u001b[0;32m   2717\u001b[0m             \u001b[1;32mif\u001b[0m \u001b[0mpy_any\u001b[0m\u001b[1;33m(\u001b[0m\u001b[0mis_tensor\u001b[0m\u001b[1;33m(\u001b[0m\u001b[0mx\u001b[0m\u001b[1;33m)\u001b[0m \u001b[1;32mfor\u001b[0m \u001b[0mx\u001b[0m \u001b[1;32min\u001b[0m \u001b[0minputs\u001b[0m\u001b[1;33m)\u001b[0m\u001b[1;33m:\u001b[0m\u001b[1;33m\u001b[0m\u001b[0m\n",
      "\u001b[1;32mO:\\ProgrammingSoftwares\\anaconda3\\envs\\tensor-cpu\\lib\\site-packages\\keras\\backend\\tensorflow_backend.py\u001b[0m in \u001b[0;36m_call\u001b[1;34m(self, inputs)\u001b[0m\n\u001b[0;32m   2673\u001b[0m             \u001b[0mfetched\u001b[0m \u001b[1;33m=\u001b[0m \u001b[0mself\u001b[0m\u001b[1;33m.\u001b[0m\u001b[0m_callable_fn\u001b[0m\u001b[1;33m(\u001b[0m\u001b[1;33m*\u001b[0m\u001b[0marray_vals\u001b[0m\u001b[1;33m,\u001b[0m \u001b[0mrun_metadata\u001b[0m\u001b[1;33m=\u001b[0m\u001b[0mself\u001b[0m\u001b[1;33m.\u001b[0m\u001b[0mrun_metadata\u001b[0m\u001b[1;33m)\u001b[0m\u001b[1;33m\u001b[0m\u001b[0m\n\u001b[0;32m   2674\u001b[0m         \u001b[1;32melse\u001b[0m\u001b[1;33m:\u001b[0m\u001b[1;33m\u001b[0m\u001b[0m\n\u001b[1;32m-> 2675\u001b[1;33m             \u001b[0mfetched\u001b[0m \u001b[1;33m=\u001b[0m \u001b[0mself\u001b[0m\u001b[1;33m.\u001b[0m\u001b[0m_callable_fn\u001b[0m\u001b[1;33m(\u001b[0m\u001b[1;33m*\u001b[0m\u001b[0marray_vals\u001b[0m\u001b[1;33m)\u001b[0m\u001b[1;33m\u001b[0m\u001b[0m\n\u001b[0m\u001b[0;32m   2676\u001b[0m         \u001b[1;32mreturn\u001b[0m \u001b[0mfetched\u001b[0m\u001b[1;33m[\u001b[0m\u001b[1;33m:\u001b[0m\u001b[0mlen\u001b[0m\u001b[1;33m(\u001b[0m\u001b[0mself\u001b[0m\u001b[1;33m.\u001b[0m\u001b[0moutputs\u001b[0m\u001b[1;33m)\u001b[0m\u001b[1;33m]\u001b[0m\u001b[1;33m\u001b[0m\u001b[0m\n\u001b[0;32m   2677\u001b[0m \u001b[1;33m\u001b[0m\u001b[0m\n",
      "\u001b[1;32mO:\\ProgrammingSoftwares\\anaconda3\\envs\\tensor-cpu\\lib\\site-packages\\tensorflow\\python\\client\\session.py\u001b[0m in \u001b[0;36m__call__\u001b[1;34m(self, *args, **kwargs)\u001b[0m\n\u001b[0;32m   1397\u001b[0m           ret = tf_session.TF_SessionRunCallable(\n\u001b[0;32m   1398\u001b[0m               \u001b[0mself\u001b[0m\u001b[1;33m.\u001b[0m\u001b[0m_session\u001b[0m\u001b[1;33m.\u001b[0m\u001b[0m_session\u001b[0m\u001b[1;33m,\u001b[0m \u001b[0mself\u001b[0m\u001b[1;33m.\u001b[0m\u001b[0m_handle\u001b[0m\u001b[1;33m,\u001b[0m \u001b[0margs\u001b[0m\u001b[1;33m,\u001b[0m \u001b[0mstatus\u001b[0m\u001b[1;33m,\u001b[0m\u001b[1;33m\u001b[0m\u001b[0m\n\u001b[1;32m-> 1399\u001b[1;33m               run_metadata_ptr)\n\u001b[0m\u001b[0;32m   1400\u001b[0m         \u001b[1;32mif\u001b[0m \u001b[0mrun_metadata\u001b[0m\u001b[1;33m:\u001b[0m\u001b[1;33m\u001b[0m\u001b[0m\n\u001b[0;32m   1401\u001b[0m           \u001b[0mproto_data\u001b[0m \u001b[1;33m=\u001b[0m \u001b[0mtf_session\u001b[0m\u001b[1;33m.\u001b[0m\u001b[0mTF_GetBuffer\u001b[0m\u001b[1;33m(\u001b[0m\u001b[0mrun_metadata_ptr\u001b[0m\u001b[1;33m)\u001b[0m\u001b[1;33m\u001b[0m\u001b[0m\n",
      "\u001b[1;31mKeyboardInterrupt\u001b[0m: "
     ]
    }
   ],
   "source": [
    "from keras.callbacks import EarlyStopping, LambdaCallback,ModelCheckpoint, CSVLogger\n",
    "from utility_methods import collect_and_separate_labels, collect_labels,save_plots, save_plots_callback\n",
    "\n",
    "image_folder = 'O:/ProgrammingSoftwares/anaconda_projects/dp_nagyhazi/samples/images/'\n",
    "patience=2\n",
    "early_stopping=EarlyStopping(monitor='val_acc',patience=patience, verbose=1)\n",
    "checkpointer=ModelCheckpoint(filepath='weights.hdf5',monitor='val_acc', save_best_only=True, verbose=1)\n",
    "csv_logger = CSVLogger('training.log', append=True)\n",
    "\n",
    "traain = StreamingDataGenerator(image_folder,batch_size=16)\n",
    "history = model.fit_generator(generator=traain,\n",
    "                    validation_data=traain,\n",
    "                    epochs=30,\n",
    "                    callbacks=[csv_logger,checkpointer, early_stopping])"
   ]
  },
  {
   "cell_type": "code",
   "execution_count": null,
   "metadata": {
    "collapsed": true
   },
   "outputs": [],
   "source": []
  }
 ],
 "metadata": {
  "kernelspec": {
   "display_name": "Python [conda env:tensor-cpu]",
   "language": "python",
   "name": "conda-env-tensor-cpu-py"
  },
  "language_info": {
   "codemirror_mode": {
    "name": "ipython",
    "version": 3
   },
   "file_extension": ".py",
   "mimetype": "text/x-python",
   "name": "python",
   "nbconvert_exporter": "python",
   "pygments_lexer": "ipython3",
   "version": "3.5.5"
  }
 },
 "nbformat": 4,
 "nbformat_minor": 2
}
