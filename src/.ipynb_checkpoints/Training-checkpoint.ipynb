{
 "cells": [
  {
   "cell_type": "markdown",
   "metadata": {},
   "source": [
    "# 2nd milestone"
   ]
  },
  {
   "cell_type": "code",
   "execution_count": 1,
   "metadata": {},
   "outputs": [
    {
     "name": "stderr",
     "output_type": "stream",
     "text": [
      "O:\\ProgrammingSoftwares\\anaconda3\\envs\\tensor-cpu\\lib\\site-packages\\h5py\\__init__.py:36: FutureWarning: Conversion of the second argument of issubdtype from `float` to `np.floating` is deprecated. In future, it will be treated as `np.float64 == np.dtype(float).type`.\n",
      "  from ._conv import register_converters as _register_converters\n",
      "Using TensorFlow backend.\n"
     ]
    }
   ],
   "source": [
    "from keras import models\n",
    "from keras import layers\n",
    "from keras import optimizers\n",
    "from keras.layers import Dense, Activation, BatchNormalization, Conv2D, BatchNormalization, MaxPooling2D, UpSampling2D, Flatten\n",
    "import numpy as np\n",
    "import scipy as sp\n",
    "from skimage import color\n",
    "import warnings\n",
    "import keras\n",
    "from keras.callbacks import EarlyStopping\n",
    "from keras.callbacks import ModelCheckpoint"
   ]
  },
  {
   "cell_type": "markdown",
   "metadata": {},
   "source": [
    "### Starting info\n",
    "\n",
    "I started from this paper: <b>Colorful image colorization - Richard Zhang, Phillip Isola, Alexei A. Efros</b>\n",
    "https://arxiv.org/pdf/1603.08511.pdf\n",
    "\n",
    "In short they found out, that image colorization problem considered as a multinomial classification problem give better results than the other older solutions for this problem. Because of that, they first turned the RGB pixels into LAB colorspace. In this colorspace, the colorisation problem can be interpreted as input = L, output = a,b.  \n",
    "First they created an RGB distribution ->  RGB(a,b|L = 50)\n",
    "![RGB distribution](img_for_description/rgb_distribution.png)  \n",
    "  \n",
    "After that they discretize the values, with this method they got 313 class which are different pixels. This discretized list is saved to numpy pts_hull_file, it is a 2 dimensional with shape of (313,2) where the axis 1 refers to a,b pairs.\n",
    "I'm using up this array, in my function D which map all of the pixel=(L1,a1,b1) to a one hot encoded vector with shape (313,).   This D decide where this pixel belong from the discretized values, after that encode to one hot vector.\n",
    "\n",
    "\n",
    "https://en.wikipedia.org/wiki/CIELAB_color_space  \n",
    "  \n",
    "### Comments for the below code\n",
    "\n",
    "    - Image folder is where all of you data is, you have to change to your filepath, where is your samples.\n",
    "\n",
    "    - Pts_hull_file is the discrete class array, which are created from RGB-LAB distribution. You don't have to recreate, it is in the repo/samples folder.\n",
    "    \n",
    "    - ImageLoader class will hold the prepared data for the training and evaluation.\n",
    "    - img_loader.separate_small_data(valid_split,test_split) prepares the data to train.\n"
   ]
  },
  {
   "cell_type": "code",
   "execution_count": 2,
   "metadata": {},
   "outputs": [
    {
     "name": "stderr",
     "output_type": "stream",
     "text": [
      "O:\\ProgrammingSoftwares\\anaconda3\\envs\\tensor-cpu\\lib\\site-packages\\skimage\\viewer\\utils\\core.py:10: UserWarning: Recommended matplotlib backend is `Agg` for full skimage.viewer functionality.\n",
      "  warn(\"Recommended matplotlib backend is `Agg` for full \"\n",
      "O:\\ProgrammingSoftwares\\anaconda3\\envs\\tensor-cpu\\lib\\site-packages\\skimage\\transform\\_warps.py:84: UserWarning: The default mode, 'constant', will be changed to 'reflect' in skimage 0.15.\n",
      "  warn(\"The default mode, 'constant', will be changed to 'reflect' in \"\n"
     ]
    },
    {
     "name": "stdout",
     "output_type": "stream",
     "text": [
      "(24, 56, 56, 313)\n"
     ]
    }
   ],
   "source": [
    "# Import own .py files\n",
    "import data_collector\n",
    "import image_loader\n",
    "import nnetwork\n",
    "\n",
    "\n",
    "image_folder = 'O:/ProgrammingSoftwares/anaconda_projects/dp_nagyhazi/samples/images/'\n",
    "pts_hull_file = 'O:/ProgrammingSoftwares/anaconda_projects/dp_nagyhazi/samples/pts_in_hull.npy'\n",
    "\n",
    "img_loader = image_loader.ImageLoader(image_folder, pt_in_hull_folder = pts_hull_file)\n",
    "\n",
    "# Separate_small_data(validation_rate, test_rate)\n",
    "img_loader.separate_small_data(0.1,0.1)"
   ]
  },
  {
   "cell_type": "markdown",
   "metadata": {},
   "source": [
    "### Info for the below code.\n",
    "\n",
    "I've created the first model, which built up from a vgg16 keras model and after it batch norm and some convolution layers. These last convolution layers are responsible to convert the collected features into an a,b discretized distribution. Becuase of multinomial classification i thought the categorical crossentropy will be the best for me."
   ]
  },
  {
   "cell_type": "code",
   "execution_count": 3,
   "metadata": {},
   "outputs": [
    {
     "name": "stdout",
     "output_type": "stream",
     "text": [
      "_________________________________________________________________\n",
      "Layer (type)                 Output Shape              Param #   \n",
      "=================================================================\n",
      "vgg16 (Model)                (None, 7, 7, 512)         14714688  \n",
      "_________________________________________________________________\n",
      "batch_normalization_1 (Batch (None, 7, 7, 512)         2048      \n",
      "_________________________________________________________________\n",
      "up_sampling2d_1 (UpSampling2 (None, 56, 56, 512)       0         \n",
      "_________________________________________________________________\n",
      "conv2d_1 (Conv2D)            (None, 56, 56, 313)       1442617   \n",
      "_________________________________________________________________\n",
      "conv2d_2 (Conv2D)            (None, 56, 56, 313)       98282     \n",
      "=================================================================\n",
      "Total params: 16,257,635\n",
      "Trainable params: 3,901,731\n",
      "Non-trainable params: 12,355,904\n",
      "_________________________________________________________________\n"
     ]
    }
   ],
   "source": [
    "model = nnetwork.create_vgg_model()\n",
    "model.compile('adam', loss = 'categorical_crossentropy',\n",
    "              metrics=['accuracy', keras.metrics.categorical_accuracy])"
   ]
  },
  {
   "cell_type": "code",
   "execution_count": 4,
   "metadata": {
    "collapsed": true
   },
   "outputs": [],
   "source": [
    "patience=20\n",
    "early_stopping=EarlyStopping(patience=patience, verbose=1)\n",
    "checkpointer=ModelCheckpoint(filepath='weights.hdf5', save_best_only=True, verbose=1)"
   ]
  },
  {
   "cell_type": "code",
   "execution_count": 11,
   "metadata": {
    "scrolled": true
   },
   "outputs": [
    {
     "name": "stdout",
     "output_type": "stream",
     "text": [
      "Train on 19 samples, validate on 2 samples\n",
      "Epoch 1/30\n",
      "19/19 [==============================] - 18s 932ms/step - loss: 1.2193 - acc: 0.6131 - categorical_accuracy: 0.6131 - val_loss: 2.2972 - val_acc: 0.2809 - val_categorical_accuracy: 0.2809\n",
      "\n",
      "Epoch 00001: val_loss improved from 2.43415 to 2.29716, saving model to weights.hdf5\n",
      "Epoch 2/30\n",
      "19/19 [==============================] - 18s 951ms/step - loss: 1.2495 - acc: 0.5951 - categorical_accuracy: 0.5951 - val_loss: 2.3574 - val_acc: 0.2580 - val_categorical_accuracy: 0.2580\n",
      "\n",
      "Epoch 00002: val_loss did not improve from 2.29716\n",
      "Epoch 3/30\n",
      "19/19 [==============================] - 18s 932ms/step - loss: 1.2208 - acc: 0.6148 - categorical_accuracy: 0.6148 - val_loss: 2.4370 - val_acc: 0.2240 - val_categorical_accuracy: 0.2240\n",
      "\n",
      "Epoch 00003: val_loss did not improve from 2.29716\n",
      "Epoch 4/30\n",
      "19/19 [==============================] - 18s 936ms/step - loss: 1.2391 - acc: 0.6059 - categorical_accuracy: 0.6059 - val_loss: 2.2917 - val_acc: 0.2422 - val_categorical_accuracy: 0.2422\n",
      "\n",
      "Epoch 00004: val_loss improved from 2.29716 to 2.29168, saving model to weights.hdf5\n",
      "Epoch 5/30\n",
      "19/19 [==============================] - 18s 960ms/step - loss: 1.1355 - acc: 0.6275 - categorical_accuracy: 0.6275 - val_loss: 2.2114 - val_acc: 0.2967 - val_categorical_accuracy: 0.2967\n",
      "\n",
      "Epoch 00005: val_loss improved from 2.29168 to 2.21144, saving model to weights.hdf5\n",
      "Epoch 6/30\n",
      "19/19 [==============================] - 18s 939ms/step - loss: 1.1211 - acc: 0.6383 - categorical_accuracy: 0.6383 - val_loss: 2.1590 - val_acc: 0.3441 - val_categorical_accuracy: 0.3441\n",
      "\n",
      "Epoch 00006: val_loss improved from 2.21144 to 2.15904, saving model to weights.hdf5\n",
      "Epoch 7/30\n",
      "19/19 [==============================] - 18s 950ms/step - loss: 1.0929 - acc: 0.6361 - categorical_accuracy: 0.6361 - val_loss: 2.1504 - val_acc: 0.3294 - val_categorical_accuracy: 0.3294\n",
      "\n",
      "Epoch 00007: val_loss improved from 2.15904 to 2.15041, saving model to weights.hdf5\n",
      "Epoch 8/30\n",
      "19/19 [==============================] - 18s 939ms/step - loss: 1.0682 - acc: 0.6377 - categorical_accuracy: 0.6377 - val_loss: 2.1807 - val_acc: 0.3256 - val_categorical_accuracy: 0.3256\n",
      "\n",
      "Epoch 00008: val_loss did not improve from 2.15041\n",
      "Epoch 9/30\n",
      "19/19 [==============================] - 18s 966ms/step - loss: 1.0533 - acc: 0.6429 - categorical_accuracy: 0.6429 - val_loss: 2.2467 - val_acc: 0.3203 - val_categorical_accuracy: 0.3203\n",
      "\n",
      "Epoch 00009: val_loss did not improve from 2.15041\n",
      "Epoch 10/30\n",
      "19/19 [==============================] - 18s 937ms/step - loss: 1.0730 - acc: 0.6410 - categorical_accuracy: 0.6410 - val_loss: 2.2150 - val_acc: 0.3394 - val_categorical_accuracy: 0.3394\n",
      "\n",
      "Epoch 00010: val_loss did not improve from 2.15041\n",
      "Epoch 11/30\n",
      "19/19 [==============================] - 18s 951ms/step - loss: 1.0639 - acc: 0.6363 - categorical_accuracy: 0.6363 - val_loss: 2.0941 - val_acc: 0.3434 - val_categorical_accuracy: 0.3434\n",
      "\n",
      "Epoch 00011: val_loss improved from 2.15041 to 2.09407, saving model to weights.hdf5\n",
      "Epoch 12/30\n",
      "19/19 [==============================] - 18s 960ms/step - loss: 1.0221 - acc: 0.6487 - categorical_accuracy: 0.6487 - val_loss: 2.0737 - val_acc: 0.3524 - val_categorical_accuracy: 0.3524\n",
      "\n",
      "Epoch 00012: val_loss improved from 2.09407 to 2.07368, saving model to weights.hdf5\n",
      "Epoch 13/30\n",
      "19/19 [==============================] - 18s 942ms/step - loss: 1.0027 - acc: 0.6519 - categorical_accuracy: 0.6519 - val_loss: 2.2055 - val_acc: 0.2908 - val_categorical_accuracy: 0.2908\n",
      "\n",
      "Epoch 00013: val_loss did not improve from 2.07368\n",
      "Epoch 14/30\n",
      "19/19 [==============================] - 18s 971ms/step - loss: 0.9926 - acc: 0.6617 - categorical_accuracy: 0.6617 - val_loss: 2.3659 - val_acc: 0.3017 - val_categorical_accuracy: 0.3017\n",
      "\n",
      "Epoch 00014: val_loss did not improve from 2.07368\n",
      "Epoch 15/30\n",
      "19/19 [==============================] - 18s 945ms/step - loss: 1.0081 - acc: 0.6547 - categorical_accuracy: 0.6547 - val_loss: 2.4632 - val_acc: 0.2744 - val_categorical_accuracy: 0.2744\n",
      "\n",
      "Epoch 00015: val_loss did not improve from 2.07368\n",
      "Epoch 16/30\n",
      "19/19 [==============================] - 19s 976ms/step - loss: 0.9850 - acc: 0.6578 - categorical_accuracy: 0.6578 - val_loss: 2.4666 - val_acc: 0.3004 - val_categorical_accuracy: 0.3004\n",
      "\n",
      "Epoch 00016: val_loss did not improve from 2.07368\n",
      "Epoch 17/30\n",
      "19/19 [==============================] - 18s 952ms/step - loss: 1.0221 - acc: 0.6488 - categorical_accuracy: 0.6488 - val_loss: 2.3563 - val_acc: 0.3385 - val_categorical_accuracy: 0.3385\n",
      "\n",
      "Epoch 00017: val_loss did not improve from 2.07368\n",
      "Epoch 18/30\n",
      "19/19 [==============================] - 18s 948ms/step - loss: 0.9696 - acc: 0.6550 - categorical_accuracy: 0.6550 - val_loss: 2.3048 - val_acc: 0.2865 - val_categorical_accuracy: 0.2865\n",
      "\n",
      "Epoch 00018: val_loss did not improve from 2.07368\n",
      "Epoch 19/30\n",
      "19/19 [==============================] - 18s 954ms/step - loss: 1.0118 - acc: 0.6388 - categorical_accuracy: 0.6388 - val_loss: 2.1950 - val_acc: 0.2439 - val_categorical_accuracy: 0.2439\n",
      "\n",
      "Epoch 00019: val_loss did not improve from 2.07368\n",
      "Epoch 20/30\n",
      "19/19 [==============================] - 18s 972ms/step - loss: 0.9600 - acc: 0.6637 - categorical_accuracy: 0.6637 - val_loss: 2.2483 - val_acc: 0.2097 - val_categorical_accuracy: 0.2097\n",
      "\n",
      "Epoch 00020: val_loss did not improve from 2.07368\n",
      "Epoch 21/30\n",
      "19/19 [==============================] - 18s 941ms/step - loss: 0.9633 - acc: 0.6654 - categorical_accuracy: 0.6654 - val_loss: 2.3112 - val_acc: 0.2254 - val_categorical_accuracy: 0.2254\n",
      "\n",
      "Epoch 00021: val_loss did not improve from 2.07368\n",
      "Epoch 22/30\n",
      "19/19 [==============================] - 18s 949ms/step - loss: 0.9926 - acc: 0.6549 - categorical_accuracy: 0.6549 - val_loss: 2.2165 - val_acc: 0.2508 - val_categorical_accuracy: 0.2508\n",
      "\n",
      "Epoch 00022: val_loss did not improve from 2.07368\n",
      "Epoch 23/30\n",
      "19/19 [==============================] - 18s 958ms/step - loss: 0.9814 - acc: 0.6581 - categorical_accuracy: 0.6581 - val_loss: 2.2419 - val_acc: 0.2685 - val_categorical_accuracy: 0.2685\n",
      "\n",
      "Epoch 00023: val_loss did not improve from 2.07368\n",
      "Epoch 24/30\n",
      "19/19 [==============================] - 18s 966ms/step - loss: 1.0203 - acc: 0.6490 - categorical_accuracy: 0.6490 - val_loss: 2.3651 - val_acc: 0.2870 - val_categorical_accuracy: 0.2870\n",
      "\n",
      "Epoch 00024: val_loss did not improve from 2.07368\n",
      "Epoch 25/30\n",
      "19/19 [==============================] - 18s 949ms/step - loss: 0.9977 - acc: 0.6538 - categorical_accuracy: 0.6538 - val_loss: 2.5457 - val_acc: 0.2589 - val_categorical_accuracy: 0.2589\n",
      "\n",
      "Epoch 00025: val_loss did not improve from 2.07368\n",
      "Epoch 26/30\n",
      "19/19 [==============================] - 18s 953ms/step - loss: 0.9418 - acc: 0.6642 - categorical_accuracy: 0.6642 - val_loss: 2.5854 - val_acc: 0.2189 - val_categorical_accuracy: 0.2189\n",
      "\n",
      "Epoch 00026: val_loss did not improve from 2.07368\n",
      "Epoch 27/30\n",
      "19/19 [==============================] - 18s 966ms/step - loss: 0.9419 - acc: 0.6657 - categorical_accuracy: 0.6657 - val_loss: 2.5378 - val_acc: 0.2395 - val_categorical_accuracy: 0.2395\n",
      "\n",
      "Epoch 00027: val_loss did not improve from 2.07368\n",
      "Epoch 28/30\n",
      "19/19 [==============================] - 18s 941ms/step - loss: 0.9427 - acc: 0.6622 - categorical_accuracy: 0.6622 - val_loss: 2.5161 - val_acc: 0.2659 - val_categorical_accuracy: 0.2659\n",
      "\n",
      "Epoch 00028: val_loss did not improve from 2.07368\n",
      "Epoch 29/30\n",
      "19/19 [==============================] - 18s 949ms/step - loss: 0.9417 - acc: 0.6602 - categorical_accuracy: 0.6602 - val_loss: 2.4592 - val_acc: 0.2908 - val_categorical_accuracy: 0.2908\n",
      "\n",
      "Epoch 00029: val_loss did not improve from 2.07368\n",
      "Epoch 30/30\n",
      "19/19 [==============================] - 18s 945ms/step - loss: 0.9512 - acc: 0.6557 - categorical_accuracy: 0.6557 - val_loss: 2.4379 - val_acc: 0.2830 - val_categorical_accuracy: 0.2830\n",
      "\n",
      "Epoch 00030: val_loss did not improve from 2.07368\n"
     ]
    }
   ],
   "source": [
    "history = model.fit(x=img_loader.X_train,\n",
    "                    y=img_loader.Y_train,\n",
    "                    batch_size=16,\n",
    "                    epochs=30,\n",
    "                    validation_data=(img_loader.X_valid,img_loader.Y_valid),\n",
    "                   callbacks=[checkpointer, early_stopping])"
   ]
  },
  {
   "cell_type": "code",
   "execution_count": 12,
   "metadata": {},
   "outputs": [
    {
     "name": "stdout",
     "output_type": "stream",
     "text": [
      "3/3 [==============================] - 2s 577ms/step\n",
      "Test loss: 4.517929553985596\n",
      "Test accuracy: 0.16113945841789246\n"
     ]
    }
   ],
   "source": [
    "score = model.evaluate(img_loader.X_test, img_loader.Y_test, verbose=1)\n",
    "print('Test loss:', score[0])\n",
    "print('Test accuracy:', score[1])"
   ]
  },
  {
   "cell_type": "code",
   "execution_count": 13,
   "metadata": {},
   "outputs": [
    {
     "data": {
      "image/png": "[encoded data removed]",
      "text/plain": [
       "<Figure size 432x288 with 1 Axes>"
      ]
     },
     "metadata": {},
     "output_type": "display_data"
    },
    {
     "data": {
      "image/png": "[encoded data removed]",
      "text/plain": [
       "<Figure size 432x288 with 1 Axes>"
      ]
     },
     "metadata": {},
     "output_type": "display_data"
    }
   ],
   "source": [
    "# summarize history for accuracy\n",
    "plt.plot(history.history['acc'])\n",
    "plt.plot(history.history['val_acc'])\n",
    "plt.title('model accuracy')\n",
    "plt.ylabel('accuracy')\n",
    "plt.xlabel('epoch')\n",
    "plt.legend(['train', 'test'], loc='upper left')\n",
    "plt.show()\n",
    "# summarize history for loss\n",
    "plt.plot(history.history['loss'])\n",
    "plt.plot(history.history['val_loss'])\n",
    "plt.title('model loss')\n",
    "plt.ylabel('loss')\n",
    "plt.xlabel('epoch')\n",
    "plt.legend(['train', 'test'], loc='upper left')\n",
    "plt.show()"
   ]
  },
  {
   "cell_type": "markdown",
   "metadata": {},
   "source": [
    "Changing the <b>idx</b> you can try out what did the network do."
   ]
  },
  {
   "cell_type": "code",
   "execution_count": 14,
   "metadata": {},
   "outputs": [
    {
     "data": {
      "text/plain": [
       "<matplotlib.image.AxesImage at 0x1a30027d7f0>"
      ]
     },
     "execution_count": 14,
     "metadata": {},
     "output_type": "execute_result"
    },
    {
     "data": {
      "image/png": "[encoded data removed]",
      "text/plain": [
       "<Figure size 432x288 with 1 Axes>"
      ]
     },
     "metadata": {},
     "output_type": "display_data"
    }
   ],
   "source": [
    "from matplotlib.pyplot import imshow\n",
    "from skimage import color\n",
    "import matplotlib.pyplot as plt\n",
    "%matplotlib inline\n",
    "\n",
    "idx = 10\n",
    "\n",
    "y_real = model.predict(img_loader.X_train[idx].reshape((1,224,224,3)))\n",
    "y_real = np.apply_along_axis(lambda x: img_loader.pts_in_hull[np.argmax(x)], axis=3, arr = y_real)\n",
    "img_loader.pts_in_hull # létező színosztályok\n",
    "\n",
    "lab_im = np.concatenate([img_loader.y_dataset[np.newaxis,idx,:,:,0, np.newaxis],y_real ], axis=3)\n",
    "rgb_im = color.lab2rgb(lab_im[0])\n",
    "plt.imshow(rgb_im)"
   ]
  },
  {
   "cell_type": "code",
   "execution_count": null,
   "metadata": {
    "collapsed": true
   },
   "outputs": [],
   "source": []
  }
 ],
 "metadata": {
  "kernelspec": {
   "display_name": "Python [conda env:tensor-cpu]",
   "language": "python",
   "name": "conda-env-tensor-cpu-py"
  },
  "language_info": {
   "codemirror_mode": {
    "name": "ipython",
    "version": 3
   },
   "file_extension": ".py",
   "mimetype": "text/x-python",
   "name": "python",
   "nbconvert_exporter": "python",
   "pygments_lexer": "ipython3",
   "version": "3.5.5"
  }
 },
 "nbformat": 4,
 "nbformat_minor": 2
}
