{
 "cells": [
  {
   "cell_type": "code",
   "execution_count": null,
   "metadata": {
    "scrolled": true
   },
   "outputs": [],
   "source": [
    "import pandas as pd\n",
    "import urllib.request\n",
    "import uuid"
   ]
  },
  {
   "cell_type": "markdown",
   "metadata": {},
   "source": [
    "## Read in image url data"
   ]
  },
  {
   "cell_type": "code",
   "execution_count": null,
   "metadata": {},
   "outputs": [],
   "source": [
    "image_id_url = pd.read_csv('O:\\\\ProgrammingSoftwares\\\\anaconda_projects\\\\dp_nagyhazi\\\\data\\\\image_ids_and_rotation.csv',engine='python',sep = ',')"
   ]
  },
  {
   "cell_type": "code",
   "execution_count": null,
   "metadata": {
    "collapsed": true
   },
   "outputs": [],
   "source": [
    "image_labels = pd.read_csv('O:\\\\ProgrammingSoftwares\\\\anaconda_projects\\\\dp_nagyhazi\\\\data\\\\train-annotations-human-imagelabels.csv',engine='python',sep = ',')"
   ]
  },
  {
   "cell_type": "code",
   "execution_count": null,
   "metadata": {
    "collapsed": true
   },
   "outputs": [],
   "source": [
    "class_description = pd.read_csv('O:\\\\ProgrammingSoftwares\\\\anaconda_projects\\\\dp_nagyhazi\\\\data\\\\class-descriptions.csv',engine='python',header = None, sep = ',')"
   ]
  },
  {
   "cell_type": "code",
   "execution_count": null,
   "metadata": {},
   "outputs": [],
   "source": [
    "city_label = class_description[class_description[1] == 'City'][0]"
   ]
  },
  {
   "cell_type": "code",
   "execution_count": null,
   "metadata": {},
   "outputs": [],
   "source": [
    "image_id_url.head()"
   ]
  },
  {
   "cell_type": "code",
   "execution_count": null,
   "metadata": {},
   "outputs": [],
   "source": [
    "city_label = city_label.values[0]"
   ]
  },
  {
   "cell_type": "code",
   "execution_count": null,
   "metadata": {
    "collapsed": true
   },
   "outputs": [],
   "source": [
    "image_labels.loc[(image_labels['LabelName'] == city_label) & (image_labels['Confidence'] == 1)]"
   ]
  },
  {
   "cell_type": "code",
   "execution_count": null,
   "metadata": {
    "scrolled": true
   },
   "outputs": [],
   "source": [
    "image_id_url.loc[image_id_url['ImageID'] == 'a2f87bea53e47e5b']['OriginalURL'].values"
   ]
  },
  {
   "cell_type": "code",
   "execution_count": null,
   "metadata": {
    "collapsed": true
   },
   "outputs": [],
   "source": [
    "for index, row in image_id_url.iterrows():\n",
    "    #Cut down the first quote\n",
    "    file_name = row['url'].split('\"')[1]\n",
    "    urllib.request.urlretrieve(file_name, file_name + \".jpg\")"
   ]
  },
  {
   "cell_type": "code",
   "execution_count": null,
   "metadata": {
    "collapsed": true
   },
   "outputs": [],
   "source": [
    "cols = [\"url\", \"size\", \"code\"]\n",
    "train_dataset = pd.read_csv('O:\\\\ProgrammingSoftwares\\\\anaconda_projects\\\\dp_nagyhazi\\\\data\\\\image_ids_and_rotation.csv',engine='python',names = cols, sep = '\\\\t', header = None)\n",
    "train_dataset = pd.read_csv('O:\\\\ProgrammingSoftwares\\\\anaconda_projects\\\\dp_nagyhazi\\\\data\\\\train\\\\train.csv',engine='python',names = cols, sep = '\\\\t', header = None)\n",
    "validation_dataset = pd.read_csv('O:\\\\ProgrammingSoftwares\\\\anaconda_projects\\\\dp_nagyhazi\\\\data\\\\validation\\\\validation.csv',engine='python',names = cols, sep = '\\\\t', header = None)\n",
    "test_dataset = pd.read_csv('O:\\\\ProgrammingSoftwares\\\\anaconda_projects\\\\dp_nagyhazi\\\\data\\\\test\\\\test.csv',engine='python',names = cols, sep = '\\\\t', header = None)"
   ]
  },
  {
   "cell_type": "code",
   "execution_count": null,
   "metadata": {
    "collapsed": true
   },
   "outputs": [],
   "source": []
  }
 ],
 "metadata": {
  "kernelspec": {
   "display_name": "Python [conda env:tensorflow]",
   "language": "python",
   "name": "conda-env-tensorflow-py"
  },
  "language_info": {
   "codemirror_mode": {
    "name": "ipython",
    "version": 3
   },
   "file_extension": ".py",
   "mimetype": "text/x-python",
   "name": "python",
   "nbconvert_exporter": "python",
   "pygments_lexer": "ipython3",
   "version": "3.5.4"
  }
 },
 "nbformat": 4,
 "nbformat_minor": 2
}
