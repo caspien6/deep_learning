{
 "cells": [
  {
   "cell_type": "markdown",
   "metadata": {},
   "source": [
    "# 2nd milestone"
   ]
  },
  {
   "cell_type": "code",
   "execution_count": 1,
   "metadata": {},
   "outputs": [
    {
     "name": "stderr",
     "output_type": "stream",
     "text": [
      "O:\\ProgrammingSoftwares\\anaconda3\\envs\\tensor-cpu\\lib\\site-packages\\h5py\\__init__.py:36: FutureWarning: Conversion of the second argument of issubdtype from `float` to `np.floating` is deprecated. In future, it will be treated as `np.float64 == np.dtype(float).type`.\n",
      "  from ._conv import register_converters as _register_converters\n",
      "Using TensorFlow backend.\n"
     ]
    }
   ],
   "source": [
    "from keras import models\n",
    "from keras import layers\n",
    "from keras import optimizers\n",
    "from keras.layers import Dense, Activation, BatchNormalization, Conv2D, BatchNormalization, MaxPooling2D, UpSampling2D, Flatten\n",
    "import numpy as np\n",
    "import scipy as sp\n",
    "from skimage import color\n",
    "import warnings\n",
    "import keras\n",
    "from keras.callbacks import EarlyStopping\n",
    "from keras.callbacks import ModelCheckpoint"
   ]
  },
  {
   "cell_type": "markdown",
   "metadata": {},
   "source": [
    "### Starting info\n",
    "\n",
    "I started from this paper: <b>Colorful image colorization - Richard Zhang, Phillip Isola, Alexei A. Efros</b>\n",
    "https://arxiv.org/pdf/1603.08511.pdf\n",
    "\n",
    "In short they found out, that image colorization problem considered as a multinomial classification problem give better results than the other older solutions for this problem. Because of that, they first turned the RGB pixels into LAB colorspace. In this colorspace, the colorisation problem can be interpreted as input = L, output = a,b.  \n",
    "First they created an RGB distribution ->  RGB(a,b|L = 50)\n",
    "![RGB distribution](img_for_description/rgb_distribution.png)  \n",
    "  \n",
    "After that they discretize the values, with this method they got 313 class which are different pixels. This discretized list is saved to numpy pts_hull_file, it is a 2 dimensional with shape of (313,2) where the axis 1 refers to a,b pairs.\n",
    "I'm using up this array, in my function D which map all of the pixel=(L1,a1,b1) to a one hot encoded vector with shape (313,).   This D decide where this pixel belong from the discretized values, after that encode to one hot vector.\n",
    "\n",
    "\n",
    "https://en.wikipedia.org/wiki/CIELAB_color_space  \n",
    "  \n",
    "### Comments for the below code\n",
    "\n",
    "    - Image folder is where all of you data is, you have to change to your filepath, where is your samples.\n",
    "\n",
    "    - Pts_hull_file is the discrete class array, which are created from RGB-LAB distribution. You don't have to recreate, it is in the repo/samples folder.\n",
    "    \n",
    "    - ImageLoader class will hold the prepared data for the training and evaluation.\n",
    "    - img_loader.separate_small_data(valid_split,test_split) prepares the data to train.\n"
   ]
  },
  {
   "cell_type": "code",
   "execution_count": 2,
   "metadata": {
    "scrolled": false
   },
   "outputs": [
    {
     "name": "stderr",
     "output_type": "stream",
     "text": [
      "O:\\ProgrammingSoftwares\\anaconda3\\envs\\tensor-cpu\\lib\\site-packages\\skimage\\viewer\\utils\\core.py:10: UserWarning: Recommended matplotlib backend is `Agg` for full skimage.viewer functionality.\n",
      "  warn(\"Recommended matplotlib backend is `Agg` for full \"\n",
      "O:\\ProgrammingSoftwares\\anaconda_projects\\dp_nagyhazi\\src\\utility_methods.py:3: UserWarning: \n",
      "This call to matplotlib.use() has no effect because the backend has already\n",
      "been chosen; matplotlib.use() must be called *before* pylab, matplotlib.pyplot,\n",
      "or matplotlib.backends is imported for the first time.\n",
      "\n",
      "The backend was *originally* set to 'module://ipykernel.pylab.backend_inline' by the following code:\n",
      "  File \"O:\\ProgrammingSoftwares\\anaconda3\\envs\\tensor-cpu\\lib\\runpy.py\", line 193, in _run_module_as_main\n",
      "    \"__main__\", mod_spec)\n",
      "  File \"O:\\ProgrammingSoftwares\\anaconda3\\envs\\tensor-cpu\\lib\\runpy.py\", line 85, in _run_code\n",
      "    exec(code, run_globals)\n",
      "  File \"O:\\ProgrammingSoftwares\\anaconda3\\envs\\tensor-cpu\\lib\\site-packages\\ipykernel\\__main__.py\", line 3, in <module>\n",
      "    app.launch_new_instance()\n",
      "  File \"O:\\ProgrammingSoftwares\\anaconda3\\envs\\tensor-cpu\\lib\\site-packages\\traitlets\\config\\application.py\", line 658, in launch_instance\n",
      "    app.start()\n",
      "  File \"O:\\ProgrammingSoftwares\\anaconda3\\envs\\tensor-cpu\\lib\\site-packages\\ipykernel\\kernelapp.py\", line 486, in start\n",
      "    self.io_loop.start()\n",
      "  File \"O:\\ProgrammingSoftwares\\anaconda3\\envs\\tensor-cpu\\lib\\site-packages\\tornado\\platform\\asyncio.py\", line 127, in start\n",
      "    self.asyncio_loop.run_forever()\n",
      "  File \"O:\\ProgrammingSoftwares\\anaconda3\\envs\\tensor-cpu\\lib\\asyncio\\base_events.py\", line 421, in run_forever\n",
      "    self._run_once()\n",
      "  File \"O:\\ProgrammingSoftwares\\anaconda3\\envs\\tensor-cpu\\lib\\asyncio\\base_events.py\", line 1425, in _run_once\n",
      "    handle._run()\n",
      "  File \"O:\\ProgrammingSoftwares\\anaconda3\\envs\\tensor-cpu\\lib\\asyncio\\events.py\", line 127, in _run\n",
      "    self._callback(*self._args)\n",
      "  File \"O:\\ProgrammingSoftwares\\anaconda3\\envs\\tensor-cpu\\lib\\site-packages\\tornado\\ioloop.py\", line 759, in _run_callback\n",
      "    ret = callback()\n",
      "  File \"O:\\ProgrammingSoftwares\\anaconda3\\envs\\tensor-cpu\\lib\\site-packages\\tornado\\stack_context.py\", line 276, in null_wrapper\n",
      "    return fn(*args, **kwargs)\n",
      "  File \"O:\\ProgrammingSoftwares\\anaconda3\\envs\\tensor-cpu\\lib\\site-packages\\zmq\\eventloop\\zmqstream.py\", line 536, in <lambda>\n",
      "    self.io_loop.add_callback(lambda : self._handle_events(self.socket, 0))\n",
      "  File \"O:\\ProgrammingSoftwares\\anaconda3\\envs\\tensor-cpu\\lib\\site-packages\\zmq\\eventloop\\zmqstream.py\", line 450, in _handle_events\n",
      "    self._handle_recv()\n",
      "  File \"O:\\ProgrammingSoftwares\\anaconda3\\envs\\tensor-cpu\\lib\\site-packages\\zmq\\eventloop\\zmqstream.py\", line 480, in _handle_recv\n",
      "    self._run_callback(callback, msg)\n",
      "  File \"O:\\ProgrammingSoftwares\\anaconda3\\envs\\tensor-cpu\\lib\\site-packages\\zmq\\eventloop\\zmqstream.py\", line 432, in _run_callback\n",
      "    callback(*args, **kwargs)\n",
      "  File \"O:\\ProgrammingSoftwares\\anaconda3\\envs\\tensor-cpu\\lib\\site-packages\\tornado\\stack_context.py\", line 276, in null_wrapper\n",
      "    return fn(*args, **kwargs)\n",
      "  File \"O:\\ProgrammingSoftwares\\anaconda3\\envs\\tensor-cpu\\lib\\site-packages\\ipykernel\\kernelbase.py\", line 283, in dispatcher\n",
      "    return self.dispatch_shell(stream, msg)\n",
      "  File \"O:\\ProgrammingSoftwares\\anaconda3\\envs\\tensor-cpu\\lib\\site-packages\\ipykernel\\kernelbase.py\", line 233, in dispatch_shell\n",
      "    handler(stream, idents, msg)\n",
      "  File \"O:\\ProgrammingSoftwares\\anaconda3\\envs\\tensor-cpu\\lib\\site-packages\\ipykernel\\kernelbase.py\", line 399, in execute_request\n",
      "    user_expressions, allow_stdin)\n",
      "  File \"O:\\ProgrammingSoftwares\\anaconda3\\envs\\tensor-cpu\\lib\\site-packages\\ipykernel\\ipkernel.py\", line 208, in do_execute\n",
      "    res = shell.run_cell(code, store_history=store_history, silent=silent)\n",
      "  File \"O:\\ProgrammingSoftwares\\anaconda3\\envs\\tensor-cpu\\lib\\site-packages\\ipykernel\\zmqshell.py\", line 537, in run_cell\n",
      "    return super(ZMQInteractiveShell, self).run_cell(*args, **kwargs)\n",
      "  File \"O:\\ProgrammingSoftwares\\anaconda3\\envs\\tensor-cpu\\lib\\site-packages\\IPython\\core\\interactiveshell.py\", line 2662, in run_cell\n",
      "    raw_cell, store_history, silent, shell_futures)\n",
      "  File \"O:\\ProgrammingSoftwares\\anaconda3\\envs\\tensor-cpu\\lib\\site-packages\\IPython\\core\\interactiveshell.py\", line 2785, in _run_cell\n",
      "    interactivity=interactivity, compiler=compiler, result=result)\n",
      "  File \"O:\\ProgrammingSoftwares\\anaconda3\\envs\\tensor-cpu\\lib\\site-packages\\IPython\\core\\interactiveshell.py\", line 2903, in run_ast_nodes\n",
      "    if self.run_code(code, result):\n",
      "  File \"O:\\ProgrammingSoftwares\\anaconda3\\envs\\tensor-cpu\\lib\\site-packages\\IPython\\core\\interactiveshell.py\", line 2963, in run_code\n",
      "    exec(code_obj, self.user_global_ns, self.user_ns)\n",
      "  File \"<ipython-input-2-c5f91da848e1>\", line 3, in <module>\n",
      "    import image_loader\n",
      "  File \"O:\\ProgrammingSoftwares\\anaconda_projects\\dp_nagyhazi\\src\\image_loader.py\", line 11, in <module>\n",
      "    from skimage import io, color,transform, img_as_float\n",
      "  File \"O:\\ProgrammingSoftwares\\anaconda3\\envs\\tensor-cpu\\lib\\site-packages\\skimage\\io\\__init__.py\", line 15, in <module>\n",
      "    reset_plugins()\n",
      "  File \"O:\\ProgrammingSoftwares\\anaconda3\\envs\\tensor-cpu\\lib\\site-packages\\skimage\\io\\manage_plugins.py\", line 93, in reset_plugins\n",
      "    _load_preferred_plugins()\n",
      "  File \"O:\\ProgrammingSoftwares\\anaconda3\\envs\\tensor-cpu\\lib\\site-packages\\skimage\\io\\manage_plugins.py\", line 73, in _load_preferred_plugins\n",
      "    _set_plugin(p_type, preferred_plugins['all'])\n",
      "  File \"O:\\ProgrammingSoftwares\\anaconda3\\envs\\tensor-cpu\\lib\\site-packages\\skimage\\io\\manage_plugins.py\", line 85, in _set_plugin\n",
      "    use_plugin(plugin, kind=plugin_type)\n",
      "  File \"O:\\ProgrammingSoftwares\\anaconda3\\envs\\tensor-cpu\\lib\\site-packages\\skimage\\io\\manage_plugins.py\", line 255, in use_plugin\n",
      "    _load(name)\n",
      "  File \"O:\\ProgrammingSoftwares\\anaconda3\\envs\\tensor-cpu\\lib\\site-packages\\skimage\\io\\manage_plugins.py\", line 299, in _load\n",
      "    fromlist=[modname])\n",
      "  File \"O:\\ProgrammingSoftwares\\anaconda3\\envs\\tensor-cpu\\lib\\site-packages\\skimage\\io\\_plugins\\matplotlib_plugin.py\", line 3, in <module>\n",
      "    import matplotlib.pyplot as plt\n",
      "  File \"O:\\ProgrammingSoftwares\\anaconda3\\envs\\tensor-cpu\\lib\\site-packages\\matplotlib\\pyplot.py\", line 71, in <module>\n",
      "    from matplotlib.backends import pylab_setup\n",
      "  File \"O:\\ProgrammingSoftwares\\anaconda3\\envs\\tensor-cpu\\lib\\site-packages\\matplotlib\\backends\\__init__.py\", line 16, in <module>\n",
      "    line for line in traceback.format_stack()\n",
      "\n",
      "\n",
      "  matplotlib.use('Agg')\n"
     ]
    }
   ],
   "source": [
    "# Import own .py files\n",
    "import data_collector\n",
    "import image_loader\n",
    "import nnetwork\n",
    "from utility_methods import save_plots\n",
    "from importlib import reload  # Python 3.4+ only.\n",
    "nnetwork = reload(nnetwork)\n",
    "import gc\n",
    "\n",
    "\n",
    "def teszt():\n",
    "    gc.collect()\n",
    "    image_folder = 'O:/ProgrammingSoftwares/anaconda_projects/dp_nagyhazi/samples/images/'\n",
    "    pts_hull_file = 'O:/ProgrammingSoftwares/anaconda_projects/dp_nagyhazi/samples/pts_in_hull.npy'\n",
    "\n",
    "    img_loader = image_loader.ImageLoader(image_folder, pt_in_hull_folder = pts_hull_file)\n",
    "\n",
    "    # Separate_small_data(validation_rate, test_rate)\n",
    "    img_loader.separate_small_data(0.1,0.1)\n",
    "    return img_loader"
   ]
  },
  {
   "cell_type": "code",
   "execution_count": 3,
   "metadata": {
    "scrolled": true
   },
   "outputs": [
    {
     "name": "stdout",
     "output_type": "stream",
     "text": [
      "Length of image list:  24\n"
     ]
    },
    {
     "name": "stderr",
     "output_type": "stream",
     "text": [
      "O:\\ProgrammingSoftwares\\anaconda3\\envs\\tensor-cpu\\lib\\site-packages\\skimage\\transform\\_warps.py:84: UserWarning: The default mode, 'constant', will be changed to 'reflect' in skimage 0.15.\n",
      "  warn(\"The default mode, 'constant', will be changed to 'reflect' in \"\n"
     ]
    },
    {
     "name": "stdout",
     "output_type": "stream",
     "text": [
      "Gigabyte of dataset:  0.02691650390625\n",
      "Gigabyte of y_dataset:  0.001682281494140625\n"
     ]
    }
   ],
   "source": [
    "#%load_ext memory_profiler\n",
    "img_loader = teszt()"
   ]
  },
  {
   "cell_type": "markdown",
   "metadata": {},
   "source": [
    "### Info for the below code.\n",
    "\n",
    "I've created the first model, which built up from a vgg16 keras model and after it batch norm and some convolution layers. These last convolution layers are responsible to convert the collected features into an a,b discretized distribution. Becuase of multinomial classification i thought the categorical crossentropy will be the best for me."
   ]
  },
  {
   "cell_type": "code",
   "execution_count": 4,
   "metadata": {},
   "outputs": [
    {
     "name": "stdout",
     "output_type": "stream",
     "text": [
      "_________________________________________________________________\n",
      "Layer (type)                 Output Shape              Param #   \n",
      "=================================================================\n",
      "vgg16 (Model)                (None, 7, 7, 512)         14714688  \n",
      "_________________________________________________________________\n",
      "up_sampling2d_1 (UpSampling2 (None, 56, 56, 512)       0         \n",
      "_________________________________________________________________\n",
      "conv2d_1 (Conv2D)            (None, 56, 56, 313)       160569    \n",
      "=================================================================\n",
      "Total params: 14,875,257\n",
      "Trainable params: 4,880,185\n",
      "Non-trainable params: 9,995,072\n",
      "_________________________________________________________________\n"
     ]
    }
   ],
   "source": [
    "model = nnetwork.create_vgg_model(3)\n",
    "model.compile('adam', loss = 'categorical_crossentropy',\n",
    "              metrics=['accuracy', keras.metrics.categorical_accuracy])"
   ]
  },
  {
   "cell_type": "code",
   "execution_count": 5,
   "metadata": {
    "collapsed": true
   },
   "outputs": [],
   "source": [
    "patience=1\n",
    "early_stopping=EarlyStopping(patience=patience, verbose=1)\n",
    "checkpointer=ModelCheckpoint(filepath='weights.hdf5', save_best_only=True, verbose=1)"
   ]
  },
  {
   "cell_type": "code",
   "execution_count": 25,
   "metadata": {
    "scrolled": true
   },
   "outputs": [
    {
     "name": "stdout",
     "output_type": "stream",
     "text": [
      "Train on 19 samples, validate on 2 samples\n",
      "Epoch 1/10\n",
      "19/19 [==============================] - 13s 709ms/step - loss: 5.7915 - acc: 0.0770 - categorical_accuracy: 0.0770 - val_loss: 3.3040 - val_acc: 0.4960 - val_categorical_accuracy: 0.4960\n",
      "\n",
      "Epoch 00001: val_loss improved from inf to 3.30404, saving model to weights.hdf5\n",
      "Epoch 2/10\n",
      "19/19 [==============================] - 13s 659ms/step - loss: 3.9305 - acc: 0.3767 - categorical_accuracy: 0.3767 - val_loss: 2.5171 - val_acc: 0.3079 - val_categorical_accuracy: 0.3079\n",
      "\n",
      "Epoch 00002: val_loss improved from 3.30404 to 2.51714, saving model to weights.hdf5\n",
      "Epoch 3/10\n",
      "19/19 [==============================] - 12s 645ms/step - loss: 3.1248 - acc: 0.3497 - categorical_accuracy: 0.3497 - val_loss: 2.4781 - val_acc: 0.1492 - val_categorical_accuracy: 0.1492\n",
      "\n",
      "Epoch 00003: val_loss improved from 2.51714 to 2.47808, saving model to weights.hdf5\n",
      "Epoch 4/10\n",
      "19/19 [==============================] - 12s 645ms/step - loss: 2.5810 - acc: 0.3677 - categorical_accuracy: 0.3677 - val_loss: 2.6113 - val_acc: 0.2712 - val_categorical_accuracy: 0.2712\n",
      "\n",
      "Epoch 00004: val_loss did not improve from 2.47808\n",
      "Epoch 00004: early stopping\n"
     ]
    }
   ],
   "source": [
    "history = model.fit(x=img_loader.X_train,\n",
    "                    y=img_loader.Y_train,\n",
    "                    batch_size=16,\n",
    "                    epochs=10,\n",
    "                    validation_data=(img_loader.X_valid,img_loader.Y_valid),\n",
    "                   callbacks=[checkpointer, early_stopping])"
   ]
  },
  {
   "cell_type": "code",
   "execution_count": 26,
   "metadata": {},
   "outputs": [
    {
     "name": "stdout",
     "output_type": "stream",
     "text": [
      "3/3 [==============================] - 1s 484ms/step\n",
      "Test loss: 3.4238128662109375\n",
      "Test accuracy: 0.08418367058038712\n"
     ]
    }
   ],
   "source": [
    "score = model.evaluate(img_loader.X_test, img_loader.Y_test, verbose=1)\n",
    "print('Test loss:', score[0])\n",
    "print('Test accuracy:', score[1])"
   ]
  },
  {
   "cell_type": "code",
   "execution_count": 31,
   "metadata": {
    "scrolled": true
   },
   "outputs": [
    {
     "data": {
      "image/png": "[encoded data removed]",
      "text/plain": [
       "<Figure size 432x288 with 1 Axes>"
      ]
     },
     "metadata": {},
     "output_type": "display_data"
    },
    {
     "data": {
      "image/png": "[encoded data removed]",
      "text/plain": [
       "<Figure size 432x288 with 1 Axes>"
      ]
     },
     "metadata": {},
     "output_type": "display_data"
    }
   ],
   "source": [
    "save_plots(history)"
   ]
  },
  {
   "cell_type": "markdown",
   "metadata": {},
   "source": [
    "Changing the <b>idx</b> you can try out what did the network do."
   ]
  },
  {
   "cell_type": "code",
   "execution_count": 33,
   "metadata": {},
   "outputs": [
    {
     "data": {
      "text/plain": [
       "<matplotlib.image.AxesImage at 0x2cf84d5c208>"
      ]
     },
     "execution_count": 33,
     "metadata": {},
     "output_type": "execute_result"
    },
    {
     "data": {
      "image/png": "[encoded data removed]",
      "text/plain": [
       "<Figure size 432x288 with 1 Axes>"
      ]
     },
     "metadata": {},
     "output_type": "display_data"
    }
   ],
   "source": [
    "from matplotlib.pyplot import imshow\n",
    "from skimage import color\n",
    "import matplotlib.pyplot as plt\n",
    "%matplotlib inline\n",
    "\n",
    "idx = 2\n",
    "\n",
    "y_real = model.predict(img_loader.X_train[idx].reshape((1,224,224,3)))\n",
    "y_real = np.apply_along_axis(lambda x: img_loader.pts_in_hull[np.argmax(x)], axis=3, arr = y_real)\n",
    "img_loader.pts_in_hull # létező színosztályok\n",
    "\n",
    "lab_im = np.concatenate([img_loader.y_dataset[np.newaxis,idx,:,:,0, np.newaxis],y_real ], axis=3)\n",
    "rgb_im = color.lab2rgb(lab_im[0])\n",
    "plt.imshow(rgb_im)"
   ]
  },
  {
   "cell_type": "code",
   "execution_count": null,
   "metadata": {
    "collapsed": true
   },
   "outputs": [],
   "source": []
  }
 ],
 "metadata": {
  "kernelspec": {
   "display_name": "Python [conda env:tensor-cpu]",
   "language": "python",
   "name": "conda-env-tensor-cpu-py"
  },
  "language_info": {
   "codemirror_mode": {
    "name": "ipython",
    "version": 3
   },
   "file_extension": ".py",
   "mimetype": "text/x-python",
   "name": "python",
   "nbconvert_exporter": "python",
   "pygments_lexer": "ipython3",
   "version": "3.5.5"
  }
 },
 "nbformat": 4,
 "nbformat_minor": 2
}
